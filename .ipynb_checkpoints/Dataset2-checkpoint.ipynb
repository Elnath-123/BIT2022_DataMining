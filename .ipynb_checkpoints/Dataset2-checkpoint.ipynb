{
 "cells": [
  {
   "cell_type": "markdown",
   "metadata": {},
   "source": [
    "# 互评作业1: 数据探索性分析与数据预处理\n",
    "## 二、Consumer & Visitor Insights For Neighborhoods 数据集\n",
    "### 1、数据说明"
   ]
  },
  {
   "cell_type": "code",
   "execution_count": 1,
   "metadata": {},
   "outputs": [],
   "source": [
    "%matplotlib inline\n",
    "import matplotlib\n",
    "import matplotlib.pyplot as plt\n",
    "import pandas as pd\n",
    "import tqdm\n",
    "import numpy as np\n",
    "from sklearn.linear_model import LinearRegression\n",
    "import scipy.stats as stats\n",
    "import warnings\n",
    "warnings.filterwarnings('ignore')"
   ]
  },
  {
   "cell_type": "code",
   "execution_count": 27,
   "metadata": {},
   "outputs": [
    {
     "name": "stdout",
     "output_type": "stream",
     "text": [
      "属性类别数: 13\n",
      "总行数: 220735\n",
      "示例数据:\n"
     ]
    },
    {
     "data": {
      "text/html": [
       "<div>\n",
       "<style scoped>\n",
       "    .dataframe tbody tr th:only-of-type {\n",
       "        vertical-align: middle;\n",
       "    }\n",
       "\n",
       "    .dataframe tbody tr th {\n",
       "        vertical-align: top;\n",
       "    }\n",
       "\n",
       "    .dataframe thead th {\n",
       "        text-align: right;\n",
       "    }\n",
       "</style>\n",
       "<table border=\"1\" class=\"dataframe\">\n",
       "  <thead>\n",
       "    <tr style=\"text-align: right;\">\n",
       "      <th></th>\n",
       "      <th>census_block_group</th>\n",
       "      <th>date_range_start</th>\n",
       "      <th>date_range_end</th>\n",
       "      <th>raw_visit_count</th>\n",
       "      <th>raw_visitor_count</th>\n",
       "      <th>visitor_home_cbgs</th>\n",
       "      <th>visitor_work_cbgs</th>\n",
       "      <th>distance_from_home</th>\n",
       "      <th>related_same_day_brand</th>\n",
       "      <th>related_same_month_brand</th>\n",
       "      <th>top_brands</th>\n",
       "      <th>popularity_by_hour</th>\n",
       "      <th>popularity_by_day</th>\n",
       "    </tr>\n",
       "  </thead>\n",
       "  <tbody>\n",
       "    <tr>\n",
       "      <td>0</td>\n",
       "      <td>1.005951e+10</td>\n",
       "      <td>1538352000</td>\n",
       "      <td>1541030400</td>\n",
       "      <td>75122.0</td>\n",
       "      <td>18314.0</td>\n",
       "      <td>{\"010059501003\":127,\"010059509001\":111,\"010059...</td>\n",
       "      <td>{\"010059501003\":109,\"010810407002\":62,\"0108104...</td>\n",
       "      <td>194724.0</td>\n",
       "      <td>[\"Chick-fil-A\",\"mcdonalds\",\"Marathon Petroleum...</td>\n",
       "      <td>[\"walmart\",\"mcdonalds\",\"Dollar General\",\"Chick...</td>\n",
       "      <td>[\"CrossFit\",\"Health Mart\",\"Coldwell Banker\"]</td>\n",
       "      <td>[2617,2457,2403,2519,2646,3007,3886,7566,5508,...</td>\n",
       "      <td>{\"Monday\":12000,\"Tuesday\":12224,\"Wednesday\":10...</td>\n",
       "    </tr>\n",
       "    <tr>\n",
       "      <td>1</td>\n",
       "      <td>1.009051e+10</td>\n",
       "      <td>1538352000</td>\n",
       "      <td>1541030400</td>\n",
       "      <td>95649.0</td>\n",
       "      <td>38942.0</td>\n",
       "      <td>{\"010730113021\":210,\"010090506022\":205,\"010090...</td>\n",
       "      <td>{\"010890111001\":271,\"010730045001\":269,\"010439...</td>\n",
       "      <td>120587.0</td>\n",
       "      <td>[\"Shell Oil\",\"mcdonalds\",\"Chick-fil-A\",\"Chevron\"]</td>\n",
       "      <td>[\"walmart\",\"mcdonalds\",\"Shell Oil\",\"Chick-fil-...</td>\n",
       "      <td>[]</td>\n",
       "      <td>[6556,6325,6222,6355,6586,7350,8568,8099,7378,...</td>\n",
       "      <td>{\"Monday\":12125,\"Tuesday\":12984,\"Wednesday\":12...</td>\n",
       "    </tr>\n",
       "    <tr>\n",
       "      <td>2</td>\n",
       "      <td>1.047957e+10</td>\n",
       "      <td>1538352000</td>\n",
       "      <td>1541030400</td>\n",
       "      <td>14009.0</td>\n",
       "      <td>3039.0</td>\n",
       "      <td>{\"010479567011\":67,\"010479567021\":60}</td>\n",
       "      <td>{\"010479567021\":52}</td>\n",
       "      <td>67774.0</td>\n",
       "      <td>[\"Dollar General\"]</td>\n",
       "      <td>[\"walmart\",\"Dollar General\",\"mcdonalds\",\"Chevr...</td>\n",
       "      <td>[\"Dollar General\"]</td>\n",
       "      <td>[807,790,796,786,851,951,1134,1797,1355,1241,1...</td>\n",
       "      <td>{\"Monday\":2314,\"Tuesday\":2340,\"Wednesday\":2195...</td>\n",
       "    </tr>\n",
       "    <tr>\n",
       "      <td>3</td>\n",
       "      <td>1.069040e+10</td>\n",
       "      <td>1538352000</td>\n",
       "      <td>1541030400</td>\n",
       "      <td>128169.0</td>\n",
       "      <td>25418.0</td>\n",
       "      <td>{\"010690402013\":370,\"010690402011\":322,\"010690...</td>\n",
       "      <td>{\"010690402024\":313,\"010690415004\":203,\"010450...</td>\n",
       "      <td>42684.0</td>\n",
       "      <td>[\"Chick-fil-A\",\"Sam's Club\",\"Dollar General\",\"...</td>\n",
       "      <td>[\"walmart\",\"Dollar General\",\"mcdonalds\",\"Marat...</td>\n",
       "      <td>[\"Chick-fil-A\",\"Sam's Club\",\"Olive Garden\",\"mc...</td>\n",
       "      <td>[2121,1828,1784,1704,1861,2373,3730,7497,7093,...</td>\n",
       "      <td>{\"Monday\":21141,\"Tuesday\":21143,\"Wednesday\":17...</td>\n",
       "    </tr>\n",
       "    <tr>\n",
       "      <td>4</td>\n",
       "      <td>1.073011e+10</td>\n",
       "      <td>1538352000</td>\n",
       "      <td>1541030400</td>\n",
       "      <td>51453.0</td>\n",
       "      <td>9499.0</td>\n",
       "      <td>{\"010090507001\":183,\"010730113021\":167,\"010730...</td>\n",
       "      <td>{\"010730045001\":140,\"010730027001\":123,\"010730...</td>\n",
       "      <td>18878.0</td>\n",
       "      <td>[\"Chevron\",\"Daylight Donuts\",\"walmart\"]</td>\n",
       "      <td>[\"walmart\",\"Chevron\",\"Dollar General\",\"Shell O...</td>\n",
       "      <td>[\"Chevron\",\"CrossFit\"]</td>\n",
       "      <td>[3804,3716,3686,3672,3735,4115,4855,5946,4526,...</td>\n",
       "      <td>{\"Monday\":8402,\"Tuesday\":8414,\"Wednesday\":8550...</td>\n",
       "    </tr>\n",
       "  </tbody>\n",
       "</table>\n",
       "</div>"
      ],
      "text/plain": [
       "   census_block_group  date_range_start  date_range_end  raw_visit_count  \\\n",
       "0        1.005951e+10        1538352000      1541030400          75122.0   \n",
       "1        1.009051e+10        1538352000      1541030400          95649.0   \n",
       "2        1.047957e+10        1538352000      1541030400          14009.0   \n",
       "3        1.069040e+10        1538352000      1541030400         128169.0   \n",
       "4        1.073011e+10        1538352000      1541030400          51453.0   \n",
       "\n",
       "   raw_visitor_count                                  visitor_home_cbgs  \\\n",
       "0            18314.0  {\"010059501003\":127,\"010059509001\":111,\"010059...   \n",
       "1            38942.0  {\"010730113021\":210,\"010090506022\":205,\"010090...   \n",
       "2             3039.0              {\"010479567011\":67,\"010479567021\":60}   \n",
       "3            25418.0  {\"010690402013\":370,\"010690402011\":322,\"010690...   \n",
       "4             9499.0  {\"010090507001\":183,\"010730113021\":167,\"010730...   \n",
       "\n",
       "                                   visitor_work_cbgs  distance_from_home  \\\n",
       "0  {\"010059501003\":109,\"010810407002\":62,\"0108104...            194724.0   \n",
       "1  {\"010890111001\":271,\"010730045001\":269,\"010439...            120587.0   \n",
       "2                                {\"010479567021\":52}             67774.0   \n",
       "3  {\"010690402024\":313,\"010690415004\":203,\"010450...             42684.0   \n",
       "4  {\"010730045001\":140,\"010730027001\":123,\"010730...             18878.0   \n",
       "\n",
       "                              related_same_day_brand  \\\n",
       "0  [\"Chick-fil-A\",\"mcdonalds\",\"Marathon Petroleum...   \n",
       "1  [\"Shell Oil\",\"mcdonalds\",\"Chick-fil-A\",\"Chevron\"]   \n",
       "2                                 [\"Dollar General\"]   \n",
       "3  [\"Chick-fil-A\",\"Sam's Club\",\"Dollar General\",\"...   \n",
       "4            [\"Chevron\",\"Daylight Donuts\",\"walmart\"]   \n",
       "\n",
       "                            related_same_month_brand  \\\n",
       "0  [\"walmart\",\"mcdonalds\",\"Dollar General\",\"Chick...   \n",
       "1  [\"walmart\",\"mcdonalds\",\"Shell Oil\",\"Chick-fil-...   \n",
       "2  [\"walmart\",\"Dollar General\",\"mcdonalds\",\"Chevr...   \n",
       "3  [\"walmart\",\"Dollar General\",\"mcdonalds\",\"Marat...   \n",
       "4  [\"walmart\",\"Chevron\",\"Dollar General\",\"Shell O...   \n",
       "\n",
       "                                          top_brands  \\\n",
       "0       [\"CrossFit\",\"Health Mart\",\"Coldwell Banker\"]   \n",
       "1                                                 []   \n",
       "2                                 [\"Dollar General\"]   \n",
       "3  [\"Chick-fil-A\",\"Sam's Club\",\"Olive Garden\",\"mc...   \n",
       "4                             [\"Chevron\",\"CrossFit\"]   \n",
       "\n",
       "                                  popularity_by_hour  \\\n",
       "0  [2617,2457,2403,2519,2646,3007,3886,7566,5508,...   \n",
       "1  [6556,6325,6222,6355,6586,7350,8568,8099,7378,...   \n",
       "2  [807,790,796,786,851,951,1134,1797,1355,1241,1...   \n",
       "3  [2121,1828,1784,1704,1861,2373,3730,7497,7093,...   \n",
       "4  [3804,3716,3686,3672,3735,4115,4855,5946,4526,...   \n",
       "\n",
       "                                   popularity_by_day  \n",
       "0  {\"Monday\":12000,\"Tuesday\":12224,\"Wednesday\":10...  \n",
       "1  {\"Monday\":12125,\"Tuesday\":12984,\"Wednesday\":12...  \n",
       "2  {\"Monday\":2314,\"Tuesday\":2340,\"Wednesday\":2195...  \n",
       "3  {\"Monday\":21141,\"Tuesday\":21143,\"Wednesday\":17...  \n",
       "4  {\"Monday\":8402,\"Tuesday\":8414,\"Wednesday\":8550...  "
      ]
     },
     "execution_count": 27,
     "metadata": {},
     "output_type": "execute_result"
    }
   ],
   "source": [
    "data = pd.read_csv('.//visit-patterns-by-census-block-group/cbg_patterns.csv')\n",
    "print('属性类别数:', len(data.columns))\n",
    "print('总行数:', len(data))\n",
    "print('示例数据:')\n",
    "data.head(5)"
   ]
  },
  {
   "cell_type": "markdown",
   "metadata": {},
   "source": [
    "### 2、数据摘要"
   ]
  },
  {
   "cell_type": "code",
   "execution_count": 28,
   "metadata": {},
   "outputs": [
    {
     "name": "stdout",
     "output_type": "stream",
     "text": [
      "标称属性: ['visitor_home_cbgs' 'visitor_work_cbgs' 'related_same_day_brand'\n",
      " 'related_same_month_brand' 'top_brands' 'popularity_by_hour'\n",
      " 'popularity_by_day']\n",
      "数值属性: ['census_block_group' 'date_range_start' 'date_range_end'\n",
      " 'raw_visit_count' 'raw_visitor_count' 'distance_from_home']\n"
     ]
    }
   ],
   "source": [
    "num_fields = data.select_dtypes(include=np.number).columns.values\n",
    "nom_fields = data.select_dtypes(exclude=np.number).columns.values\n",
    "print('标称属性:', nom_fields)\n",
    "print('数值属性:', num_fields)"
   ]
  },
  {
   "cell_type": "markdown",
   "metadata": {},
   "source": [
    "#### 1）标称属性\n",
    "以“top_brands”属性为例，进行频数统计，其余标称属性类似。"
   ]
  },
  {
   "cell_type": "code",
   "execution_count": 29,
   "metadata": {},
   "outputs": [
    {
     "name": "stdout",
     "output_type": "stream",
     "text": [
      "频数统计:\n"
     ]
    },
    {
     "data": {
      "text/plain": [
       "[]                                                                                                                                                                                                         74540\n",
       "[\"United States Postal Service (USPS)\"]                                                                                                                                                                     5352\n",
       "[\"Aflac (American Family Life Assurance)\"]                                                                                                                                                                  1517\n",
       "[\"Dollar General\"]                                                                                                                                                                                          1308\n",
       "[\"National Association for the Education of Young Children (NAEYC)\"]                                                                                                                                        1071\n",
       "                                                                                                                                                                                                           ...  \n",
       "[\"Kum & Go\",\"Dairy Queen\",\"Bomgaars\",\"Pizza Hut\",\"Watermill Express\",\"American Animal Hospital Association (AAHA)\"]                                                                                            1\n",
       "[\"Casey's General Stores\",\"United States Postal Service (USPS)\",\"The American Legion\",\"The Huntington National Bank\",\"VFW (Veterans of Foreign Wars)\",\"American Family Insurance (AmFam)\",\"State Farm\"]        1\n",
       "[\"Ramada\",\"Texaco\",\"Burger King US\",\"Travelodge\",\"Quality Inn\",\"Piccadilly Restaurants\",\"United States Postal Service (USPS)\",\"Days Inn\",\"Knights Inn\"]                                                        1\n",
       "[\"SUBWAY\",\"Del Taco\",\"Papa John's\",\"Cricket Wireless\"]                                                                                                                                                         1\n",
       "[\"Chevron\",\"Enterprise Rent-A-Car\"]                                                                                                                                                                            1\n",
       "Name: top_brands, Length: 98086, dtype: int64"
      ]
     },
     "execution_count": 29,
     "metadata": {},
     "output_type": "execute_result"
    }
   ],
   "source": [
    "field = 'top_brands'\n",
    "print('频数统计:')\n",
    "data[field].value_counts()"
   ]
  },
  {
   "cell_type": "markdown",
   "metadata": {},
   "source": [
    "#### 2）数值属性"
   ]
  },
  {
   "cell_type": "code",
   "execution_count": 30,
   "metadata": {},
   "outputs": [
    {
     "data": {
      "text/html": [
       "<div>\n",
       "<style scoped>\n",
       "    .dataframe tbody tr th:only-of-type {\n",
       "        vertical-align: middle;\n",
       "    }\n",
       "\n",
       "    .dataframe tbody tr th {\n",
       "        vertical-align: top;\n",
       "    }\n",
       "\n",
       "    .dataframe thead th {\n",
       "        text-align: right;\n",
       "    }\n",
       "</style>\n",
       "<table border=\"1\" class=\"dataframe\">\n",
       "  <thead>\n",
       "    <tr style=\"text-align: right;\">\n",
       "      <th></th>\n",
       "      <th>census_block_group</th>\n",
       "      <th>date_range_start</th>\n",
       "      <th>date_range_end</th>\n",
       "      <th>raw_visit_count</th>\n",
       "      <th>raw_visitor_count</th>\n",
       "      <th>distance_from_home</th>\n",
       "    </tr>\n",
       "  </thead>\n",
       "  <tbody>\n",
       "    <tr>\n",
       "      <td>count</td>\n",
       "      <td>2.207340e+05</td>\n",
       "      <td>2.207350e+05</td>\n",
       "      <td>2.207350e+05</td>\n",
       "      <td>2.206290e+05</td>\n",
       "      <td>2.206290e+05</td>\n",
       "      <td>2.205180e+05</td>\n",
       "    </tr>\n",
       "    <tr>\n",
       "      <td>mean</td>\n",
       "      <td>2.870864e+11</td>\n",
       "      <td>1.538352e+09</td>\n",
       "      <td>1.541030e+09</td>\n",
       "      <td>4.793066e+04</td>\n",
       "      <td>1.182032e+04</td>\n",
       "      <td>3.511280e+04</td>\n",
       "    </tr>\n",
       "    <tr>\n",
       "      <td>std</td>\n",
       "      <td>1.640723e+11</td>\n",
       "      <td>0.000000e+00</td>\n",
       "      <td>0.000000e+00</td>\n",
       "      <td>6.252655e+04</td>\n",
       "      <td>3.045832e+04</td>\n",
       "      <td>9.973193e+04</td>\n",
       "    </tr>\n",
       "    <tr>\n",
       "      <td>min</td>\n",
       "      <td>1.001020e+10</td>\n",
       "      <td>1.538352e+09</td>\n",
       "      <td>1.541030e+09</td>\n",
       "      <td>6.000000e+01</td>\n",
       "      <td>5.000000e+01</td>\n",
       "      <td>7.060000e+02</td>\n",
       "    </tr>\n",
       "    <tr>\n",
       "      <td>25%</td>\n",
       "      <td>1.312101e+11</td>\n",
       "      <td>1.538352e+09</td>\n",
       "      <td>1.541030e+09</td>\n",
       "      <td>1.704200e+04</td>\n",
       "      <td>3.430000e+03</td>\n",
       "      <td>8.584000e+03</td>\n",
       "    </tr>\n",
       "    <tr>\n",
       "      <td>50%</td>\n",
       "      <td>2.901900e+11</td>\n",
       "      <td>1.538352e+09</td>\n",
       "      <td>1.541030e+09</td>\n",
       "      <td>3.064000e+04</td>\n",
       "      <td>6.541000e+03</td>\n",
       "      <td>1.461400e+04</td>\n",
       "    </tr>\n",
       "    <tr>\n",
       "      <td>75%</td>\n",
       "      <td>4.200349e+11</td>\n",
       "      <td>1.538352e+09</td>\n",
       "      <td>1.541030e+09</td>\n",
       "      <td>5.667800e+04</td>\n",
       "      <td>1.309900e+04</td>\n",
       "      <td>3.139775e+04</td>\n",
       "    </tr>\n",
       "    <tr>\n",
       "      <td>max</td>\n",
       "      <td>7.803099e+11</td>\n",
       "      <td>1.538352e+09</td>\n",
       "      <td>1.541030e+09</td>\n",
       "      <td>7.179900e+06</td>\n",
       "      <td>6.113949e+06</td>\n",
       "      <td>6.297845e+06</td>\n",
       "    </tr>\n",
       "  </tbody>\n",
       "</table>\n",
       "</div>"
      ],
      "text/plain": [
       "       census_block_group  date_range_start  date_range_end  raw_visit_count  \\\n",
       "count        2.207340e+05      2.207350e+05    2.207350e+05     2.206290e+05   \n",
       "mean         2.870864e+11      1.538352e+09    1.541030e+09     4.793066e+04   \n",
       "std          1.640723e+11      0.000000e+00    0.000000e+00     6.252655e+04   \n",
       "min          1.001020e+10      1.538352e+09    1.541030e+09     6.000000e+01   \n",
       "25%          1.312101e+11      1.538352e+09    1.541030e+09     1.704200e+04   \n",
       "50%          2.901900e+11      1.538352e+09    1.541030e+09     3.064000e+04   \n",
       "75%          4.200349e+11      1.538352e+09    1.541030e+09     5.667800e+04   \n",
       "max          7.803099e+11      1.538352e+09    1.541030e+09     7.179900e+06   \n",
       "\n",
       "       raw_visitor_count  distance_from_home  \n",
       "count       2.206290e+05        2.205180e+05  \n",
       "mean        1.182032e+04        3.511280e+04  \n",
       "std         3.045832e+04        9.973193e+04  \n",
       "min         5.000000e+01        7.060000e+02  \n",
       "25%         3.430000e+03        8.584000e+03  \n",
       "50%         6.541000e+03        1.461400e+04  \n",
       "75%         1.309900e+04        3.139775e+04  \n",
       "max         6.113949e+06        6.297845e+06  "
      ]
     },
     "execution_count": 30,
     "metadata": {},
     "output_type": "execute_result"
    }
   ],
   "source": [
    "data.describe()"
   ]
  },
  {
   "cell_type": "markdown",
   "metadata": {},
   "source": [
    "**5数概括**\n",
    "\n",
    "每个数值属性的5数概括为上表的后五个数字。"
   ]
  },
  {
   "cell_type": "markdown",
   "metadata": {},
   "source": [
    "**缺失值个数统计**"
   ]
  },
  {
   "cell_type": "code",
   "execution_count": 31,
   "metadata": {},
   "outputs": [
    {
     "name": "stdout",
     "output_type": "stream",
     "text": [
      "census_block_group: 1\n",
      "date_range_start: 0\n",
      "date_range_end: 0\n",
      "raw_visit_count: 106\n",
      "raw_visitor_count: 106\n",
      "distance_from_home: 217\n"
     ]
    }
   ],
   "source": [
    "for field in num_fields:\n",
    "    print(field+':',data[field].isnull().sum())"
   ]
  },
  {
   "cell_type": "markdown",
   "metadata": {},
   "source": [
    "### 3、数据可视化"
   ]
  },
  {
   "cell_type": "markdown",
   "metadata": {},
   "source": [
    "#### 1）标称属性\n",
    "同样以“top_brands”属性为例，绘制直方图检查数据分布，其余标称属性类似。"
   ]
  },
  {
   "cell_type": "code",
   "execution_count": 32,
   "metadata": {},
   "outputs": [
    {
     "name": "stdout",
     "output_type": "stream",
     "text": [
      "聚会太多导致显示效果不好，所以取前15个聚会为例:\n"
     ]
    },
    {
     "data": {
      "text/plain": [
       "<matplotlib.axes._subplots.AxesSubplot at 0x21501f5c648>"
      ]
     },
     "execution_count": 32,
     "metadata": {},
     "output_type": "execute_result"
    },
    {
     "data": {
      "image/png": "[encoded data removed]",
      "text/plain": [
       "<Figure size 432x288 with 1 Axes>"
      ]
     },
     "metadata": {
      "needs_background": "light"
     },
     "output_type": "display_data"
    }
   ],
   "source": [
    "field = 'top_brands'\n",
    "print('聚会太多导致显示效果不好，所以取前15个聚会为例:')\n",
    "data[field].value_counts().head(15).plot.barh()"
   ]
  },
  {
   "cell_type": "markdown",
   "metadata": {},
   "source": [
    "#### 2）数值属性\n",
    "绘制直方图和Q-Q图检查数据分布，并绘制盒图检查离群点。\n",
    "\n",
    "**直方图和Q-Q图**"
   ]
  },
  {
   "cell_type": "code",
   "execution_count": 33,
   "metadata": {},
   "outputs": [
    {
     "name": "stdout",
     "output_type": "stream",
     "text": [
      "census_block_group 直方图和Q-Q图:\n"
     ]
    },
    {
     "data": {
      "image/png": "[encoded data removed]",
      "text/plain": [
       "<Figure size 432x288 with 2 Axes>"
      ]
     },
     "metadata": {
      "needs_background": "light"
     },
     "output_type": "display_data"
    },
    {
     "name": "stdout",
     "output_type": "stream",
     "text": [
      "date_range_start 直方图和Q-Q图:\n"
     ]
    },
    {
     "data": {
      "image/png": "[encoded data removed]",
      "text/plain": [
       "<Figure size 432x288 with 2 Axes>"
      ]
     },
     "metadata": {
      "needs_background": "light"
     },
     "output_type": "display_data"
    },
    {
     "name": "stdout",
     "output_type": "stream",
     "text": [
      "date_range_end 直方图和Q-Q图:\n"
     ]
    },
    {
     "data": {
      "image/png": "[encoded data removed]",
      "text/plain": [
       "<Figure size 432x288 with 2 Axes>"
      ]
     },
     "metadata": {
      "needs_background": "light"
     },
     "output_type": "display_data"
    },
    {
     "name": "stdout",
     "output_type": "stream",
     "text": [
      "raw_visit_count 直方图和Q-Q图:\n"
     ]
    },
    {
     "data": {
      "image/png": "[encoded data removed]",
      "text/plain": [
       "<Figure size 432x288 with 2 Axes>"
      ]
     },
     "metadata": {
      "needs_background": "light"
     },
     "output_type": "display_data"
    },
    {
     "name": "stdout",
     "output_type": "stream",
     "text": [
      "raw_visitor_count 直方图和Q-Q图:\n"
     ]
    },
    {
     "data": {
      "image/png": "[encoded data removed]",
      "text/plain": [
       "<Figure size 432x288 with 2 Axes>"
      ]
     },
     "metadata": {
      "needs_background": "light"
     },
     "output_type": "display_data"
    },
    {
     "name": "stdout",
     "output_type": "stream",
     "text": [
      "distance_from_home 直方图和Q-Q图:\n"
     ]
    },
    {
     "data": {
      "image/png": "[encoded data removed]",
      "text/plain": [
       "<Figure size 432x288 with 2 Axes>"
      ]
     },
     "metadata": {
      "needs_background": "light"
     },
     "output_type": "display_data"
    }
   ],
   "source": [
    "for field in num_fields:\n",
    "    print(field, '直方图和Q-Q图:')\n",
    "    plt.subplot(1, 2, 1)\n",
    "    data[field].plot.hist(bins=20)\n",
    "    plt.subplot(1, 2, 2)\n",
    "    stats.probplot(data[field], plot=plt)\n",
    "    plt.tight_layout()  # 调整整体空白\n",
    "    plt.show()"
   ]
  },
  {
   "cell_type": "markdown",
   "metadata": {},
   "source": [
    "通过直方图和Q-Q图可以看出这些标称属性都不符合正太分布。\n",
    "\n",
    "**盒图**"
   ]
  },
  {
   "cell_type": "code",
   "execution_count": 34,
   "metadata": {},
   "outputs": [
    {
     "data": {
      "image/png": "[encoded data removed]",
      "text/plain": [
       "<Figure size 432x288 with 1 Axes>"
      ]
     },
     "metadata": {
      "needs_background": "light"
     },
     "output_type": "display_data"
    },
    {
     "data": {
      "image/png": "[encoded data removed]",
      "text/plain": [
       "<Figure size 432x288 with 1 Axes>"
      ]
     },
     "metadata": {
      "needs_background": "light"
     },
     "output_type": "display_data"
    },
    {
     "data": {
      "image/png": "[encoded data removed]",
      "text/plain": [
       "<Figure size 432x288 with 1 Axes>"
      ]
     },
     "metadata": {
      "needs_background": "light"
     },
     "output_type": "display_data"
    },
    {
     "data": {
      "image/png": "[encoded data removed]",
      "text/plain": [
       "<Figure size 432x288 with 1 Axes>"
      ]
     },
     "metadata": {
      "needs_background": "light"
     },
     "output_type": "display_data"
    },
    {
     "data": {
      "image/png": "[encoded data removed]",
      "text/plain": [
       "<Figure size 432x288 with 1 Axes>"
      ]
     },
     "metadata": {
      "needs_background": "light"
     },
     "output_type": "display_data"
    },
    {
     "data": {
      "image/png": "[encoded data removed]",
      "text/plain": [
       "<Figure size 432x288 with 1 Axes>"
      ]
     },
     "metadata": {
      "needs_background": "light"
     },
     "output_type": "display_data"
    }
   ],
   "source": [
    "for field in num_fields:\n",
    "    data.boxplot(field)\n",
    "    plt.show()"
   ]
  },
  {
   "cell_type": "markdown",
   "metadata": {},
   "source": [
    "### 4、数据缺失处理\n",
    "首先对缺失数据进行统计。"
   ]
  },
  {
   "cell_type": "code",
   "execution_count": 35,
   "metadata": {},
   "outputs": [
    {
     "data": {
      "text/plain": [
       "census_block_group      1\n",
       "raw_visit_count       106\n",
       "raw_visitor_count     106\n",
       "distance_from_home    217\n",
       "dtype: int64"
      ]
     },
     "execution_count": 35,
     "metadata": {},
     "output_type": "execute_result"
    }
   ],
   "source": [
    "missing_data = data.isnull().sum()\n",
    "missing_data = missing_data[missing_data != 0]\n",
    "missing_data"
   ]
  },
  {
   "cell_type": "markdown",
   "metadata": {},
   "source": [
    "#### 1）将缺失部分剔除\n",
    "将包含缺失值的整行直接删除。"
   ]
  },
  {
   "cell_type": "code",
   "execution_count": 36,
   "metadata": {},
   "outputs": [
    {
     "name": "stdout",
     "output_type": "stream",
     "text": [
      "原始数据行数: 220735\n",
      "将缺失部分剔除后数据行数: 220518\n"
     ]
    }
   ],
   "source": [
    "print('原始数据行数:', len(data))\n",
    "drop_data = data.dropna(how='any')\n",
    "print('将缺失部分剔除后数据行数:', len(drop_data))"
   ]
  },
  {
   "cell_type": "code",
   "execution_count": 37,
   "metadata": {},
   "outputs": [
    {
     "name": "stdout",
     "output_type": "stream",
     "text": [
      "以 distance_from_home 属性为例，通过盒图对比新旧数据:\n"
     ]
    },
    {
     "data": {
      "image/png": "[encoded data removed]",
      "text/plain": [
       "<Figure size 432x288 with 2 Axes>"
      ]
     },
     "metadata": {
      "needs_background": "light"
     },
     "output_type": "display_data"
    }
   ],
   "source": [
    "print('以 distance_from_home 属性为例，通过盒图对比新旧数据:')\n",
    "field = 'distance_from_home'\n",
    "plt.subplot(1, 2, 1)\n",
    "data.boxplot(field)\n",
    "plt.xlabel('old')\n",
    "plt.subplot(1, 2, 2)\n",
    "drop_data.boxplot(field)\n",
    "plt.xlabel('new')\n",
    "plt.tight_layout()  # 调整整体空白\n",
    "plt.show()"
   ]
  },
  {
   "cell_type": "code",
   "execution_count": 38,
   "metadata": {},
   "outputs": [
    {
     "data": {
      "text/plain": [
       "census_block_group          0\n",
       "date_range_start            0\n",
       "date_range_end              0\n",
       "raw_visit_count             0\n",
       "raw_visitor_count           0\n",
       "visitor_home_cbgs           0\n",
       "visitor_work_cbgs           0\n",
       "distance_from_home          0\n",
       "related_same_day_brand      0\n",
       "related_same_month_brand    0\n",
       "top_brands                  0\n",
       "popularity_by_hour          0\n",
       "popularity_by_day           0\n",
       "dtype: int64"
      ]
     },
     "execution_count": 38,
     "metadata": {},
     "output_type": "execute_result"
    }
   ],
   "source": [
    "drop_data.isna().sum()"
   ]
  },
  {
   "cell_type": "markdown",
   "metadata": {},
   "source": [
    "#### 2）用最高频率值来填补缺失值"
   ]
  },
  {
   "cell_type": "code",
   "execution_count": 39,
   "metadata": {},
   "outputs": [
    {
     "name": "stdout",
     "output_type": "stream",
     "text": [
      "以 distance_from_home 属性为例，通过盒图对比新旧数据:\n",
      "distance_from_home 属性的最高频率值为: 8345.0\n"
     ]
    },
    {
     "data": {
      "image/png": "[encoded data removed]",
      "text/plain": [
       "<Figure size 432x288 with 2 Axes>"
      ]
     },
     "metadata": {
      "needs_background": "light"
     },
     "output_type": "display_data"
    }
   ],
   "source": [
    "print('以 distance_from_home 属性为例，通过盒图对比新旧数据:')\n",
    "field = 'distance_from_home'\n",
    "mode = data[field].mode()[0]\n",
    "new_data = data.fillna({field: mode})\n",
    "print(field, '属性的最高频率值为:', mode)\n",
    "\n",
    "plt.subplot(1, 2, 1)\n",
    "data.boxplot(field)\n",
    "plt.xlabel('old')\n",
    "plt.subplot(1, 2, 2)\n",
    "new_data.boxplot(field)\n",
    "plt.xlabel('new')\n",
    "plt.tight_layout()  # 调整整体空白\n",
    "plt.show()"
   ]
  },
  {
   "cell_type": "code",
   "execution_count": 40,
   "metadata": {},
   "outputs": [
    {
     "data": {
      "text/plain": [
       "1939   NaN\n",
       "2838   NaN\n",
       "3128   NaN\n",
       "3986   NaN\n",
       "4372   NaN\n",
       "Name: distance_from_home, dtype: float64"
      ]
     },
     "execution_count": 40,
     "metadata": {},
     "output_type": "execute_result"
    }
   ],
   "source": [
    "data[data[field].isna()][field].head(5)"
   ]
  },
  {
   "cell_type": "code",
   "execution_count": 41,
   "metadata": {},
   "outputs": [
    {
     "data": {
      "text/plain": [
       "1939    8345.0\n",
       "2838    8345.0\n",
       "3128    8345.0\n",
       "3986    8345.0\n",
       "4372    8345.0\n",
       "Name: distance_from_home, dtype: float64"
      ]
     },
     "execution_count": 41,
     "metadata": {},
     "output_type": "execute_result"
    }
   ],
   "source": [
    "new_data[data[field].isna()][field].head(5)"
   ]
  },
  {
   "cell_type": "markdown",
   "metadata": {},
   "source": [
    "可以看出新数据中 distance_from_home 属性的缺失值已经被填充。"
   ]
  },
  {
   "cell_type": "markdown",
   "metadata": {},
   "source": [
    "#### 3）通过属性的相关关系来填补缺失值"
   ]
  },
  {
   "cell_type": "code",
   "execution_count": 42,
   "metadata": {},
   "outputs": [
    {
     "data": {
      "text/html": [
       "<div>\n",
       "<style scoped>\n",
       "    .dataframe tbody tr th:only-of-type {\n",
       "        vertical-align: middle;\n",
       "    }\n",
       "\n",
       "    .dataframe tbody tr th {\n",
       "        vertical-align: top;\n",
       "    }\n",
       "\n",
       "    .dataframe thead th {\n",
       "        text-align: right;\n",
       "    }\n",
       "</style>\n",
       "<table border=\"1\" class=\"dataframe\">\n",
       "  <thead>\n",
       "    <tr style=\"text-align: right;\">\n",
       "      <th></th>\n",
       "      <th>census_block_group</th>\n",
       "      <th>date_range_start</th>\n",
       "      <th>date_range_end</th>\n",
       "      <th>raw_visit_count</th>\n",
       "      <th>raw_visitor_count</th>\n",
       "      <th>distance_from_home</th>\n",
       "    </tr>\n",
       "  </thead>\n",
       "  <tbody>\n",
       "    <tr>\n",
       "      <td>census_block_group</td>\n",
       "      <td>1.000000</td>\n",
       "      <td>NaN</td>\n",
       "      <td>NaN</td>\n",
       "      <td>-0.053986</td>\n",
       "      <td>-0.032591</td>\n",
       "      <td>-0.000658</td>\n",
       "    </tr>\n",
       "    <tr>\n",
       "      <td>date_range_start</td>\n",
       "      <td>NaN</td>\n",
       "      <td>NaN</td>\n",
       "      <td>NaN</td>\n",
       "      <td>NaN</td>\n",
       "      <td>NaN</td>\n",
       "      <td>NaN</td>\n",
       "    </tr>\n",
       "    <tr>\n",
       "      <td>date_range_end</td>\n",
       "      <td>NaN</td>\n",
       "      <td>NaN</td>\n",
       "      <td>NaN</td>\n",
       "      <td>NaN</td>\n",
       "      <td>NaN</td>\n",
       "      <td>NaN</td>\n",
       "    </tr>\n",
       "    <tr>\n",
       "      <td>raw_visit_count</td>\n",
       "      <td>-0.053986</td>\n",
       "      <td>NaN</td>\n",
       "      <td>NaN</td>\n",
       "      <td>1.000000</td>\n",
       "      <td>0.815850</td>\n",
       "      <td>0.021721</td>\n",
       "    </tr>\n",
       "    <tr>\n",
       "      <td>raw_visitor_count</td>\n",
       "      <td>-0.032591</td>\n",
       "      <td>NaN</td>\n",
       "      <td>NaN</td>\n",
       "      <td>0.815850</td>\n",
       "      <td>1.000000</td>\n",
       "      <td>0.032879</td>\n",
       "    </tr>\n",
       "    <tr>\n",
       "      <td>distance_from_home</td>\n",
       "      <td>-0.000658</td>\n",
       "      <td>NaN</td>\n",
       "      <td>NaN</td>\n",
       "      <td>0.021721</td>\n",
       "      <td>0.032879</td>\n",
       "      <td>1.000000</td>\n",
       "    </tr>\n",
       "  </tbody>\n",
       "</table>\n",
       "</div>"
      ],
      "text/plain": [
       "                    census_block_group  date_range_start  date_range_end  \\\n",
       "census_block_group            1.000000               NaN             NaN   \n",
       "date_range_start                   NaN               NaN             NaN   \n",
       "date_range_end                     NaN               NaN             NaN   \n",
       "raw_visit_count              -0.053986               NaN             NaN   \n",
       "raw_visitor_count            -0.032591               NaN             NaN   \n",
       "distance_from_home           -0.000658               NaN             NaN   \n",
       "\n",
       "                    raw_visit_count  raw_visitor_count  distance_from_home  \n",
       "census_block_group        -0.053986          -0.032591           -0.000658  \n",
       "date_range_start                NaN                NaN                 NaN  \n",
       "date_range_end                  NaN                NaN                 NaN  \n",
       "raw_visit_count            1.000000           0.815850            0.021721  \n",
       "raw_visitor_count          0.815850           1.000000            0.032879  \n",
       "distance_from_home         0.021721           0.032879            1.000000  "
      ]
     },
     "execution_count": 42,
     "metadata": {},
     "output_type": "execute_result"
    }
   ],
   "source": [
    "data.corr()"
   ]
  },
  {
   "cell_type": "code",
   "execution_count": 43,
   "metadata": {},
   "outputs": [
    {
     "data": {
      "text/plain": [
       "True"
      ]
     },
     "execution_count": 43,
     "metadata": {},
     "output_type": "execute_result"
    }
   ],
   "source": [
    "len(data[data['raw_visit_count'].isna() & data['raw_visitor_count'].isna()]) == len(data[data['raw_visit_count'].isna()])"
   ]
  },
  {
   "cell_type": "markdown",
   "metadata": {},
   "source": [
    "可以看出只有“raw_visit_count”和“raw_visitor_count”两个属性之间存在较强的正相关关系，但是这两个属性都是同时缺失，因此没办法互相填补。结论：这个数据集没办法通过属性的相关关系来填补缺失值。"
   ]
  },
  {
   "cell_type": "markdown",
   "metadata": {},
   "source": [
    "#### 4）通过数据对象之间的相似性来填补缺失值\n",
    "通过行之间的相似性来填充缺失值。"
   ]
  },
  {
   "cell_type": "code",
   "execution_count": 44,
   "metadata": {},
   "outputs": [
    {
     "data": {
      "text/html": [
       "<div>\n",
       "<style scoped>\n",
       "    .dataframe tbody tr th:only-of-type {\n",
       "        vertical-align: middle;\n",
       "    }\n",
       "\n",
       "    .dataframe tbody tr th {\n",
       "        vertical-align: top;\n",
       "    }\n",
       "\n",
       "    .dataframe thead th {\n",
       "        text-align: right;\n",
       "    }\n",
       "</style>\n",
       "<table border=\"1\" class=\"dataframe\">\n",
       "  <thead>\n",
       "    <tr style=\"text-align: right;\">\n",
       "      <th></th>\n",
       "      <th>census_block_group</th>\n",
       "      <th>date_range_start</th>\n",
       "      <th>date_range_end</th>\n",
       "      <th>raw_visit_count</th>\n",
       "      <th>raw_visitor_count</th>\n",
       "      <th>visitor_home_cbgs</th>\n",
       "      <th>visitor_work_cbgs</th>\n",
       "      <th>distance_from_home</th>\n",
       "      <th>related_same_day_brand</th>\n",
       "      <th>related_same_month_brand</th>\n",
       "      <th>top_brands</th>\n",
       "      <th>popularity_by_hour</th>\n",
       "      <th>popularity_by_day</th>\n",
       "    </tr>\n",
       "  </thead>\n",
       "  <tbody>\n",
       "    <tr>\n",
       "      <td>2</td>\n",
       "      <td>1.047957e+10</td>\n",
       "      <td>1538352000</td>\n",
       "      <td>1541030400</td>\n",
       "      <td>14009.0</td>\n",
       "      <td>3039.0</td>\n",
       "      <td>{\"010479567011\":67,\"010479567021\":60}</td>\n",
       "      <td>{\"010479567021\":52}</td>\n",
       "      <td>67774.0</td>\n",
       "      <td>[\"Dollar General\"]</td>\n",
       "      <td>[\"walmart\",\"Dollar General\",\"mcdonalds\",\"Chevr...</td>\n",
       "      <td>[\"Dollar General\"]</td>\n",
       "      <td>[807,790,796,786,851,951,1134,1797,1355,1241,1...</td>\n",
       "      <td>{\"Monday\":2314,\"Tuesday\":2340,\"Wednesday\":2195...</td>\n",
       "    </tr>\n",
       "    <tr>\n",
       "      <td>41085</td>\n",
       "      <td>2.906795e+11</td>\n",
       "      <td>1538352000</td>\n",
       "      <td>1541030400</td>\n",
       "      <td>14009.0</td>\n",
       "      <td>3647.0</td>\n",
       "      <td>{\"290679502003\":61}</td>\n",
       "      <td>{\"290679505002\":65}</td>\n",
       "      <td>43498.0</td>\n",
       "      <td>[\"walmart\",\"CoxHealth\",\"SUBWAY\",\"mcdonalds\",\"C...</td>\n",
       "      <td>[\"Casey's General Stores\",\"walmart\",\"Kum &amp; Go\"...</td>\n",
       "      <td>[]</td>\n",
       "      <td>[1911,1947,1812,1728,1668,1678,1867,1951,1599,...</td>\n",
       "      <td>{\"Monday\":1936,\"Tuesday\":2268,\"Wednesday\":1936...</td>\n",
       "    </tr>\n",
       "    <tr>\n",
       "      <td>100941</td>\n",
       "      <td>4.820302e+11</td>\n",
       "      <td>1538352000</td>\n",
       "      <td>1541030400</td>\n",
       "      <td>14009.0</td>\n",
       "      <td>4018.0</td>\n",
       "      <td>{\"482030201031\":81,\"482030205021\":71,\"48203020...</td>\n",
       "      <td>{\"482030205014\":119}</td>\n",
       "      <td>46266.0</td>\n",
       "      <td>[\"Exxon Mobil\",\"Whataburger\",\"mcdonalds\",\"Soni...</td>\n",
       "      <td>[\"walmart\",\"Exxon Mobil\",\"Whataburger\",\"mcdona...</td>\n",
       "      <td>[\"Jeep\",\"Chrysler\",\"Dodge\"]</td>\n",
       "      <td>[837,810,804,820,799,835,866,1118,1060,1057,10...</td>\n",
       "      <td>{\"Monday\":2034,\"Tuesday\":2144,\"Wednesday\":2136...</td>\n",
       "    </tr>\n",
       "    <tr>\n",
       "      <td>109606</td>\n",
       "      <td>1.500301e+11</td>\n",
       "      <td>1538352000</td>\n",
       "      <td>1541030400</td>\n",
       "      <td>14009.0</td>\n",
       "      <td>1633.0</td>\n",
       "      <td>{\"150030068042\":90,\"150030068043\":73,\"15003006...</td>\n",
       "      <td>{\"150030074001\":53}</td>\n",
       "      <td>5232.0</td>\n",
       "      <td>[\"Target\",\"Navy Exchange\",\"starbucks\"]</td>\n",
       "      <td>[\"mcdonalds\",\"Target\",\"starbucks\",\"Navy Exchan...</td>\n",
       "      <td>[]</td>\n",
       "      <td>[1224,1165,1140,1173,1178,1292,1403,1767,1274,...</td>\n",
       "      <td>{\"Monday\":2245,\"Tuesday\":2177,\"Wednesday\":2144...</td>\n",
       "    </tr>\n",
       "    <tr>\n",
       "      <td>148395</td>\n",
       "      <td>6.037604e+10</td>\n",
       "      <td>1538352000</td>\n",
       "      <td>1541030400</td>\n",
       "      <td>14009.0</td>\n",
       "      <td>4807.0</td>\n",
       "      <td>{}</td>\n",
       "      <td>{\"060379800131\":104,\"060376212012\":95}</td>\n",
       "      <td>5889.0</td>\n",
       "      <td>[\"starbucks\"]</td>\n",
       "      <td>[\"starbucks\",\"mcdonalds\",\"Costco Wholesale Cor...</td>\n",
       "      <td>[\"Aflac (American Family Life Assurance)\"]</td>\n",
       "      <td>[1036,982,956,937,957,1121,1267,1537,1673,1168...</td>\n",
       "      <td>{\"Monday\":2159,\"Tuesday\":2205,\"Wednesday\":2134...</td>\n",
       "    </tr>\n",
       "  </tbody>\n",
       "</table>\n",
       "</div>"
      ],
      "text/plain": [
       "        census_block_group  date_range_start  date_range_end  raw_visit_count  \\\n",
       "2             1.047957e+10        1538352000      1541030400          14009.0   \n",
       "41085         2.906795e+11        1538352000      1541030400          14009.0   \n",
       "100941        4.820302e+11        1538352000      1541030400          14009.0   \n",
       "109606        1.500301e+11        1538352000      1541030400          14009.0   \n",
       "148395        6.037604e+10        1538352000      1541030400          14009.0   \n",
       "\n",
       "        raw_visitor_count                                  visitor_home_cbgs  \\\n",
       "2                  3039.0              {\"010479567011\":67,\"010479567021\":60}   \n",
       "41085              3647.0                                {\"290679502003\":61}   \n",
       "100941             4018.0  {\"482030201031\":81,\"482030205021\":71,\"48203020...   \n",
       "109606             1633.0  {\"150030068042\":90,\"150030068043\":73,\"15003006...   \n",
       "148395             4807.0                                                 {}   \n",
       "\n",
       "                             visitor_work_cbgs  distance_from_home  \\\n",
       "2                          {\"010479567021\":52}             67774.0   \n",
       "41085                      {\"290679505002\":65}             43498.0   \n",
       "100941                    {\"482030205014\":119}             46266.0   \n",
       "109606                     {\"150030074001\":53}              5232.0   \n",
       "148395  {\"060379800131\":104,\"060376212012\":95}              5889.0   \n",
       "\n",
       "                                   related_same_day_brand  \\\n",
       "2                                      [\"Dollar General\"]   \n",
       "41085   [\"walmart\",\"CoxHealth\",\"SUBWAY\",\"mcdonalds\",\"C...   \n",
       "100941  [\"Exxon Mobil\",\"Whataburger\",\"mcdonalds\",\"Soni...   \n",
       "109606             [\"Target\",\"Navy Exchange\",\"starbucks\"]   \n",
       "148395                                      [\"starbucks\"]   \n",
       "\n",
       "                                 related_same_month_brand  \\\n",
       "2       [\"walmart\",\"Dollar General\",\"mcdonalds\",\"Chevr...   \n",
       "41085   [\"Casey's General Stores\",\"walmart\",\"Kum & Go\"...   \n",
       "100941  [\"walmart\",\"Exxon Mobil\",\"Whataburger\",\"mcdona...   \n",
       "109606  [\"mcdonalds\",\"Target\",\"starbucks\",\"Navy Exchan...   \n",
       "148395  [\"starbucks\",\"mcdonalds\",\"Costco Wholesale Cor...   \n",
       "\n",
       "                                        top_brands  \\\n",
       "2                               [\"Dollar General\"]   \n",
       "41085                                           []   \n",
       "100941                 [\"Jeep\",\"Chrysler\",\"Dodge\"]   \n",
       "109606                                          []   \n",
       "148395  [\"Aflac (American Family Life Assurance)\"]   \n",
       "\n",
       "                                       popularity_by_hour  \\\n",
       "2       [807,790,796,786,851,951,1134,1797,1355,1241,1...   \n",
       "41085   [1911,1947,1812,1728,1668,1678,1867,1951,1599,...   \n",
       "100941  [837,810,804,820,799,835,866,1118,1060,1057,10...   \n",
       "109606  [1224,1165,1140,1173,1178,1292,1403,1767,1274,...   \n",
       "148395  [1036,982,956,937,957,1121,1267,1537,1673,1168...   \n",
       "\n",
       "                                        popularity_by_day  \n",
       "2       {\"Monday\":2314,\"Tuesday\":2340,\"Wednesday\":2195...  \n",
       "41085   {\"Monday\":1936,\"Tuesday\":2268,\"Wednesday\":1936...  \n",
       "100941  {\"Monday\":2034,\"Tuesday\":2144,\"Wednesday\":2136...  \n",
       "109606  {\"Monday\":2245,\"Tuesday\":2177,\"Wednesday\":2144...  \n",
       "148395  {\"Monday\":2159,\"Tuesday\":2205,\"Wednesday\":2134...  "
      ]
     },
     "execution_count": 44,
     "metadata": {},
     "output_type": "execute_result"
    }
   ],
   "source": [
    "data[data['raw_visit_count']==14009.0].head(5)"
   ]
  },
  {
   "cell_type": "code",
   "execution_count": 45,
   "metadata": {},
   "outputs": [
    {
     "data": {
      "text/html": [
       "<div>\n",
       "<style scoped>\n",
       "    .dataframe tbody tr th:only-of-type {\n",
       "        vertical-align: middle;\n",
       "    }\n",
       "\n",
       "    .dataframe tbody tr th {\n",
       "        vertical-align: top;\n",
       "    }\n",
       "\n",
       "    .dataframe thead th {\n",
       "        text-align: right;\n",
       "    }\n",
       "</style>\n",
       "<table border=\"1\" class=\"dataframe\">\n",
       "  <thead>\n",
       "    <tr style=\"text-align: right;\">\n",
       "      <th></th>\n",
       "      <th>census_block_group</th>\n",
       "      <th>date_range_start</th>\n",
       "      <th>date_range_end</th>\n",
       "      <th>raw_visit_count</th>\n",
       "      <th>raw_visitor_count</th>\n",
       "      <th>visitor_home_cbgs</th>\n",
       "      <th>visitor_work_cbgs</th>\n",
       "      <th>distance_from_home</th>\n",
       "      <th>related_same_day_brand</th>\n",
       "      <th>related_same_month_brand</th>\n",
       "      <th>top_brands</th>\n",
       "      <th>popularity_by_hour</th>\n",
       "      <th>popularity_by_day</th>\n",
       "    </tr>\n",
       "  </thead>\n",
       "  <tbody>\n",
       "    <tr>\n",
       "      <td>2</td>\n",
       "      <td>1.047957e+10</td>\n",
       "      <td>1538352000</td>\n",
       "      <td>1541030400</td>\n",
       "      <td>14009.0</td>\n",
       "      <td>3039.0</td>\n",
       "      <td>{\"010479567011\":67,\"010479567021\":60}</td>\n",
       "      <td>{\"010479567021\":52}</td>\n",
       "      <td>67774.0</td>\n",
       "      <td>[\"Dollar General\"]</td>\n",
       "      <td>[\"walmart\",\"Dollar General\",\"mcdonalds\",\"Chevr...</td>\n",
       "      <td>[\"Dollar General\"]</td>\n",
       "      <td>[807,790,796,786,851,951,1134,1797,1355,1241,1...</td>\n",
       "      <td>{\"Monday\":2314,\"Tuesday\":2340,\"Wednesday\":2195...</td>\n",
       "    </tr>\n",
       "    <tr>\n",
       "      <td>19283</td>\n",
       "      <td>1.701901e+11</td>\n",
       "      <td>1538352000</td>\n",
       "      <td>1541030400</td>\n",
       "      <td>10684.0</td>\n",
       "      <td>3039.0</td>\n",
       "      <td>{\"170190107003\":114,\"170190057021\":74,\"1701901...</td>\n",
       "      <td>{\"170190014001\":89,\"170190059002\":80,\"17019000...</td>\n",
       "      <td>10180.0</td>\n",
       "      <td>[\"Meijer\",\"mcdonalds\",\"Walgreens\"]</td>\n",
       "      <td>[\"walmart\",\"Walgreens\",\"mcdonalds\",\"Meijer\",\"C...</td>\n",
       "      <td>[]</td>\n",
       "      <td>[533,495,480,465,456,496,658,1199,1119,944,842...</td>\n",
       "      <td>{\"Monday\":1748,\"Tuesday\":1683,\"Wednesday\":1795...</td>\n",
       "    </tr>\n",
       "    <tr>\n",
       "      <td>20214</td>\n",
       "      <td>1.500301e+11</td>\n",
       "      <td>1538352000</td>\n",
       "      <td>1541030400</td>\n",
       "      <td>13016.0</td>\n",
       "      <td>3039.0</td>\n",
       "      <td>{\"150030089083\":95,\"150030089091\":90,\"15003008...</td>\n",
       "      <td>{\"150030089072\":94}</td>\n",
       "      <td>6006.0</td>\n",
       "      <td>[\"Costco Wholesale Corp.\",\"mcdonalds\",\"walmart...</td>\n",
       "      <td>[\"mcdonalds\",\"walmart\",\"Costco Wholesale Corp....</td>\n",
       "      <td>[]</td>\n",
       "      <td>[783,764,756,753,822,902,1007,1300,842,850,922...</td>\n",
       "      <td>{\"Monday\":2207,\"Tuesday\":2234,\"Wednesday\":1897...</td>\n",
       "    </tr>\n",
       "    <tr>\n",
       "      <td>24277</td>\n",
       "      <td>3.606100e+11</td>\n",
       "      <td>1538352000</td>\n",
       "      <td>1541030400</td>\n",
       "      <td>7072.0</td>\n",
       "      <td>3039.0</td>\n",
       "      <td>{}</td>\n",
       "      <td>{}</td>\n",
       "      <td>11748.0</td>\n",
       "      <td>[\"SUBWAY\",\"Retro Fitness\",\"Flywheel\",\"Chipotle...</td>\n",
       "      <td>[\"starbucks\",\"Dunkin' Donuts\",\"SUBWAY\",\"Au Bon...</td>\n",
       "      <td>[]</td>\n",
       "      <td>[276,261,233,248,208,205,231,493,939,1190,1303...</td>\n",
       "      <td>{\"Monday\":955,\"Tuesday\":1049,\"Wednesday\":1063,...</td>\n",
       "    </tr>\n",
       "    <tr>\n",
       "      <td>30327</td>\n",
       "      <td>3.909305e+11</td>\n",
       "      <td>1538352000</td>\n",
       "      <td>1541030400</td>\n",
       "      <td>24175.0</td>\n",
       "      <td>3039.0</td>\n",
       "      <td>{\"390930503004\":110,\"390930503003\":103,\"390930...</td>\n",
       "      <td>{\"390930132001\":62}</td>\n",
       "      <td>7674.0</td>\n",
       "      <td>[\"Dodge\",\"Chrysler\",\"Jeep\",\"Giant Eagle\",\"BP\",...</td>\n",
       "      <td>[\"mcdonalds\",\"Giant Eagle\",\"walmart\",\"Target\",...</td>\n",
       "      <td>[\"VFW (Veterans of Foreign Wars)\"]</td>\n",
       "      <td>[1033,1005,960,975,966,1055,1581,5030,3786,355...</td>\n",
       "      <td>{\"Monday\":3984,\"Tuesday\":4328,\"Wednesday\":4313...</td>\n",
       "    </tr>\n",
       "  </tbody>\n",
       "</table>\n",
       "</div>"
      ],
      "text/plain": [
       "       census_block_group  date_range_start  date_range_end  raw_visit_count  \\\n",
       "2            1.047957e+10        1538352000      1541030400          14009.0   \n",
       "19283        1.701901e+11        1538352000      1541030400          10684.0   \n",
       "20214        1.500301e+11        1538352000      1541030400          13016.0   \n",
       "24277        3.606100e+11        1538352000      1541030400           7072.0   \n",
       "30327        3.909305e+11        1538352000      1541030400          24175.0   \n",
       "\n",
       "       raw_visitor_count                                  visitor_home_cbgs  \\\n",
       "2                 3039.0              {\"010479567011\":67,\"010479567021\":60}   \n",
       "19283             3039.0  {\"170190107003\":114,\"170190057021\":74,\"1701901...   \n",
       "20214             3039.0  {\"150030089083\":95,\"150030089091\":90,\"15003008...   \n",
       "24277             3039.0                                                 {}   \n",
       "30327             3039.0  {\"390930503004\":110,\"390930503003\":103,\"390930...   \n",
       "\n",
       "                                       visitor_work_cbgs  distance_from_home  \\\n",
       "2                                    {\"010479567021\":52}             67774.0   \n",
       "19283  {\"170190014001\":89,\"170190059002\":80,\"17019000...             10180.0   \n",
       "20214                                {\"150030089072\":94}              6006.0   \n",
       "24277                                                 {}             11748.0   \n",
       "30327                                {\"390930132001\":62}              7674.0   \n",
       "\n",
       "                                  related_same_day_brand  \\\n",
       "2                                     [\"Dollar General\"]   \n",
       "19283                 [\"Meijer\",\"mcdonalds\",\"Walgreens\"]   \n",
       "20214  [\"Costco Wholesale Corp.\",\"mcdonalds\",\"walmart...   \n",
       "24277  [\"SUBWAY\",\"Retro Fitness\",\"Flywheel\",\"Chipotle...   \n",
       "30327  [\"Dodge\",\"Chrysler\",\"Jeep\",\"Giant Eagle\",\"BP\",...   \n",
       "\n",
       "                                related_same_month_brand  \\\n",
       "2      [\"walmart\",\"Dollar General\",\"mcdonalds\",\"Chevr...   \n",
       "19283  [\"walmart\",\"Walgreens\",\"mcdonalds\",\"Meijer\",\"C...   \n",
       "20214  [\"mcdonalds\",\"walmart\",\"Costco Wholesale Corp....   \n",
       "24277  [\"starbucks\",\"Dunkin' Donuts\",\"SUBWAY\",\"Au Bon...   \n",
       "30327  [\"mcdonalds\",\"Giant Eagle\",\"walmart\",\"Target\",...   \n",
       "\n",
       "                               top_brands  \\\n",
       "2                      [\"Dollar General\"]   \n",
       "19283                                  []   \n",
       "20214                                  []   \n",
       "24277                                  []   \n",
       "30327  [\"VFW (Veterans of Foreign Wars)\"]   \n",
       "\n",
       "                                      popularity_by_hour  \\\n",
       "2      [807,790,796,786,851,951,1134,1797,1355,1241,1...   \n",
       "19283  [533,495,480,465,456,496,658,1199,1119,944,842...   \n",
       "20214  [783,764,756,753,822,902,1007,1300,842,850,922...   \n",
       "24277  [276,261,233,248,208,205,231,493,939,1190,1303...   \n",
       "30327  [1033,1005,960,975,966,1055,1581,5030,3786,355...   \n",
       "\n",
       "                                       popularity_by_day  \n",
       "2      {\"Monday\":2314,\"Tuesday\":2340,\"Wednesday\":2195...  \n",
       "19283  {\"Monday\":1748,\"Tuesday\":1683,\"Wednesday\":1795...  \n",
       "20214  {\"Monday\":2207,\"Tuesday\":2234,\"Wednesday\":1897...  \n",
       "24277  {\"Monday\":955,\"Tuesday\":1049,\"Wednesday\":1063,...  \n",
       "30327  {\"Monday\":3984,\"Tuesday\":4328,\"Wednesday\":4313...  "
      ]
     },
     "execution_count": 45,
     "metadata": {},
     "output_type": "execute_result"
    }
   ],
   "source": [
    "data[data['raw_visitor_count']==3039.0].head(5)"
   ]
  },
  {
   "cell_type": "code",
   "execution_count": 46,
   "metadata": {},
   "outputs": [
    {
     "data": {
      "text/html": [
       "<div>\n",
       "<style scoped>\n",
       "    .dataframe tbody tr th:only-of-type {\n",
       "        vertical-align: middle;\n",
       "    }\n",
       "\n",
       "    .dataframe tbody tr th {\n",
       "        vertical-align: top;\n",
       "    }\n",
       "\n",
       "    .dataframe thead th {\n",
       "        text-align: right;\n",
       "    }\n",
       "</style>\n",
       "<table border=\"1\" class=\"dataframe\">\n",
       "  <thead>\n",
       "    <tr style=\"text-align: right;\">\n",
       "      <th></th>\n",
       "      <th>census_block_group</th>\n",
       "      <th>date_range_start</th>\n",
       "      <th>date_range_end</th>\n",
       "      <th>raw_visit_count</th>\n",
       "      <th>raw_visitor_count</th>\n",
       "      <th>visitor_home_cbgs</th>\n",
       "      <th>visitor_work_cbgs</th>\n",
       "      <th>distance_from_home</th>\n",
       "      <th>related_same_day_brand</th>\n",
       "      <th>related_same_month_brand</th>\n",
       "      <th>top_brands</th>\n",
       "      <th>popularity_by_hour</th>\n",
       "      <th>popularity_by_day</th>\n",
       "    </tr>\n",
       "  </thead>\n",
       "  <tbody>\n",
       "    <tr>\n",
       "      <td>19283</td>\n",
       "      <td>1.701901e+11</td>\n",
       "      <td>1538352000</td>\n",
       "      <td>1541030400</td>\n",
       "      <td>10684.0</td>\n",
       "      <td>3039.0</td>\n",
       "      <td>{\"170190107003\":114,\"170190057021\":74,\"1701901...</td>\n",
       "      <td>{\"170190014001\":89,\"170190059002\":80,\"17019000...</td>\n",
       "      <td>10180.0</td>\n",
       "      <td>[\"Meijer\",\"mcdonalds\",\"Walgreens\"]</td>\n",
       "      <td>[\"walmart\",\"Walgreens\",\"mcdonalds\",\"Meijer\",\"C...</td>\n",
       "      <td>[]</td>\n",
       "      <td>[533,495,480,465,456,496,658,1199,1119,944,842...</td>\n",
       "      <td>{\"Monday\":1748,\"Tuesday\":1683,\"Wednesday\":1795...</td>\n",
       "    </tr>\n",
       "    <tr>\n",
       "      <td>81102</td>\n",
       "      <td>4.843911e+11</td>\n",
       "      <td>1538352000</td>\n",
       "      <td>1541030400</td>\n",
       "      <td>138764.0</td>\n",
       "      <td>21381.0</td>\n",
       "      <td>{\"484391136101\":422,\"484391136104\":214,\"484391...</td>\n",
       "      <td>{\"484391136321\":295,\"484391139111\":212,\"484391...</td>\n",
       "      <td>10180.0</td>\n",
       "      <td>[]</td>\n",
       "      <td>[\"walmart\",\"starbucks\",\"Chick-fil-A\",\"QuikTrip...</td>\n",
       "      <td>[\"walmart\",\"starbucks\",\"Sonic\",\"Jersey Mike's\"...</td>\n",
       "      <td>[3321,3059,2984,3021,3275,3825,6205,13166,1281...</td>\n",
       "      <td>{\"Monday\":22035,\"Tuesday\":23107,\"Wednesday\":22...</td>\n",
       "    </tr>\n",
       "    <tr>\n",
       "      <td>82935</td>\n",
       "      <td>4.019005e+10</td>\n",
       "      <td>1538352000</td>\n",
       "      <td>1541030400</td>\n",
       "      <td>48173.0</td>\n",
       "      <td>7718.0</td>\n",
       "      <td>{\"040190046381\":296,\"040190044291\":172,\"040190...</td>\n",
       "      <td>{\"040190046441\":162,\"040190046341\":105,\"040190...</td>\n",
       "      <td>10180.0</td>\n",
       "      <td>[\"Omni Hotels &amp; Resorts\",\"Circle K Stores\",\"st...</td>\n",
       "      <td>[\"Circle K Stores\",\"walmart\",\"starbucks\",\"mcdo...</td>\n",
       "      <td>[\"Circle K Stores\",\"Goodwill Industries\",\"Afla...</td>\n",
       "      <td>[3507,3435,3386,3366,3449,3771,4194,6599,5032,...</td>\n",
       "      <td>{\"Monday\":7810,\"Tuesday\":7984,\"Wednesday\":7782...</td>\n",
       "    </tr>\n",
       "    <tr>\n",
       "      <td>98199</td>\n",
       "      <td>2.609923e+11</td>\n",
       "      <td>1538352000</td>\n",
       "      <td>1541030400</td>\n",
       "      <td>33350.0</td>\n",
       "      <td>8386.0</td>\n",
       "      <td>{\"260992238002\":153,\"260992239003\":90,\"2609923...</td>\n",
       "      <td>{\"260999823001\":166,\"260999820001\":142,\"260992...</td>\n",
       "      <td>10180.0</td>\n",
       "      <td>[]</td>\n",
       "      <td>[\"mcdonalds\",\"Meijer\",\"Kroger\",\"Tim Hortons\",\"...</td>\n",
       "      <td>[]</td>\n",
       "      <td>[1047,1004,971,1037,1097,1223,3439,6495,5353,5...</td>\n",
       "      <td>{\"Monday\":5798,\"Tuesday\":5810,\"Wednesday\":5704...</td>\n",
       "    </tr>\n",
       "    <tr>\n",
       "      <td>106444</td>\n",
       "      <td>1.704384e+11</td>\n",
       "      <td>1538352000</td>\n",
       "      <td>1541030400</td>\n",
       "      <td>22992.0</td>\n",
       "      <td>4543.0</td>\n",
       "      <td>{\"170438427022\":58}</td>\n",
       "      <td>{\"170438427101\":266}</td>\n",
       "      <td>10180.0</td>\n",
       "      <td>[\"starbucks\",\"Chick-fil-A\",\"Auto Wares\",\"Einst...</td>\n",
       "      <td>[\"starbucks\",\"Walgreens\",\"mcdonalds\",\"Jewel-Os...</td>\n",
       "      <td>[\"Auto Wares\"]</td>\n",
       "      <td>[1561,1498,1525,1484,1512,1553,1791,2757,2629,...</td>\n",
       "      <td>{\"Monday\":4114,\"Tuesday\":4149,\"Wednesday\":4207...</td>\n",
       "    </tr>\n",
       "  </tbody>\n",
       "</table>\n",
       "</div>"
      ],
      "text/plain": [
       "        census_block_group  date_range_start  date_range_end  raw_visit_count  \\\n",
       "19283         1.701901e+11        1538352000      1541030400          10684.0   \n",
       "81102         4.843911e+11        1538352000      1541030400         138764.0   \n",
       "82935         4.019005e+10        1538352000      1541030400          48173.0   \n",
       "98199         2.609923e+11        1538352000      1541030400          33350.0   \n",
       "106444        1.704384e+11        1538352000      1541030400          22992.0   \n",
       "\n",
       "        raw_visitor_count                                  visitor_home_cbgs  \\\n",
       "19283              3039.0  {\"170190107003\":114,\"170190057021\":74,\"1701901...   \n",
       "81102             21381.0  {\"484391136101\":422,\"484391136104\":214,\"484391...   \n",
       "82935              7718.0  {\"040190046381\":296,\"040190044291\":172,\"040190...   \n",
       "98199              8386.0  {\"260992238002\":153,\"260992239003\":90,\"2609923...   \n",
       "106444             4543.0                                {\"170438427022\":58}   \n",
       "\n",
       "                                        visitor_work_cbgs  distance_from_home  \\\n",
       "19283   {\"170190014001\":89,\"170190059002\":80,\"17019000...             10180.0   \n",
       "81102   {\"484391136321\":295,\"484391139111\":212,\"484391...             10180.0   \n",
       "82935   {\"040190046441\":162,\"040190046341\":105,\"040190...             10180.0   \n",
       "98199   {\"260999823001\":166,\"260999820001\":142,\"260992...             10180.0   \n",
       "106444                               {\"170438427101\":266}             10180.0   \n",
       "\n",
       "                                   related_same_day_brand  \\\n",
       "19283                  [\"Meijer\",\"mcdonalds\",\"Walgreens\"]   \n",
       "81102                                                  []   \n",
       "82935   [\"Omni Hotels & Resorts\",\"Circle K Stores\",\"st...   \n",
       "98199                                                  []   \n",
       "106444  [\"starbucks\",\"Chick-fil-A\",\"Auto Wares\",\"Einst...   \n",
       "\n",
       "                                 related_same_month_brand  \\\n",
       "19283   [\"walmart\",\"Walgreens\",\"mcdonalds\",\"Meijer\",\"C...   \n",
       "81102   [\"walmart\",\"starbucks\",\"Chick-fil-A\",\"QuikTrip...   \n",
       "82935   [\"Circle K Stores\",\"walmart\",\"starbucks\",\"mcdo...   \n",
       "98199   [\"mcdonalds\",\"Meijer\",\"Kroger\",\"Tim Hortons\",\"...   \n",
       "106444  [\"starbucks\",\"Walgreens\",\"mcdonalds\",\"Jewel-Os...   \n",
       "\n",
       "                                               top_brands  \\\n",
       "19283                                                  []   \n",
       "81102   [\"walmart\",\"starbucks\",\"Sonic\",\"Jersey Mike's\"...   \n",
       "82935   [\"Circle K Stores\",\"Goodwill Industries\",\"Afla...   \n",
       "98199                                                  []   \n",
       "106444                                     [\"Auto Wares\"]   \n",
       "\n",
       "                                       popularity_by_hour  \\\n",
       "19283   [533,495,480,465,456,496,658,1199,1119,944,842...   \n",
       "81102   [3321,3059,2984,3021,3275,3825,6205,13166,1281...   \n",
       "82935   [3507,3435,3386,3366,3449,3771,4194,6599,5032,...   \n",
       "98199   [1047,1004,971,1037,1097,1223,3439,6495,5353,5...   \n",
       "106444  [1561,1498,1525,1484,1512,1553,1791,2757,2629,...   \n",
       "\n",
       "                                        popularity_by_day  \n",
       "19283   {\"Monday\":1748,\"Tuesday\":1683,\"Wednesday\":1795...  \n",
       "81102   {\"Monday\":22035,\"Tuesday\":23107,\"Wednesday\":22...  \n",
       "82935   {\"Monday\":7810,\"Tuesday\":7984,\"Wednesday\":7782...  \n",
       "98199   {\"Monday\":5798,\"Tuesday\":5810,\"Wednesday\":5704...  \n",
       "106444  {\"Monday\":4114,\"Tuesday\":4149,\"Wednesday\":4207...  "
      ]
     },
     "execution_count": 46,
     "metadata": {},
     "output_type": "execute_result"
    }
   ],
   "source": [
    "data[data['distance_from_home']==10180.0].head(5)"
   ]
  },
  {
   "cell_type": "code",
   "execution_count": 47,
   "metadata": {},
   "outputs": [
    {
     "data": {
      "text/html": [
       "<div>\n",
       "<style scoped>\n",
       "    .dataframe tbody tr th:only-of-type {\n",
       "        vertical-align: middle;\n",
       "    }\n",
       "\n",
       "    .dataframe tbody tr th {\n",
       "        vertical-align: top;\n",
       "    }\n",
       "\n",
       "    .dataframe thead th {\n",
       "        text-align: right;\n",
       "    }\n",
       "</style>\n",
       "<table border=\"1\" class=\"dataframe\">\n",
       "  <thead>\n",
       "    <tr style=\"text-align: right;\">\n",
       "      <th></th>\n",
       "      <th>census_block_group</th>\n",
       "      <th>date_range_start</th>\n",
       "      <th>date_range_end</th>\n",
       "      <th>raw_visit_count</th>\n",
       "      <th>raw_visitor_count</th>\n",
       "      <th>visitor_home_cbgs</th>\n",
       "      <th>visitor_work_cbgs</th>\n",
       "      <th>distance_from_home</th>\n",
       "      <th>related_same_day_brand</th>\n",
       "      <th>related_same_month_brand</th>\n",
       "      <th>top_brands</th>\n",
       "      <th>popularity_by_hour</th>\n",
       "      <th>popularity_by_day</th>\n",
       "    </tr>\n",
       "  </thead>\n",
       "  <tbody>\n",
       "    <tr>\n",
       "      <td>0</td>\n",
       "      <td>1.005951e+10</td>\n",
       "      <td>1538352000</td>\n",
       "      <td>1541030400</td>\n",
       "      <td>75122.0</td>\n",
       "      <td>18314.0</td>\n",
       "      <td>{\"010059501003\":127,\"010059509001\":111,\"010059...</td>\n",
       "      <td>{\"010059501003\":109,\"010810407002\":62,\"0108104...</td>\n",
       "      <td>194724.0</td>\n",
       "      <td>[\"Chick-fil-A\",\"mcdonalds\",\"Marathon Petroleum...</td>\n",
       "      <td>[\"walmart\",\"mcdonalds\",\"Dollar General\",\"Chick...</td>\n",
       "      <td>[\"CrossFit\",\"Health Mart\",\"Coldwell Banker\"]</td>\n",
       "      <td>[2617,2457,2403,2519,2646,3007,3886,7566,5508,...</td>\n",
       "      <td>{\"Monday\":12000,\"Tuesday\":12224,\"Wednesday\":10...</td>\n",
       "    </tr>\n",
       "    <tr>\n",
       "      <td>1</td>\n",
       "      <td>1.009051e+10</td>\n",
       "      <td>1538352000</td>\n",
       "      <td>1541030400</td>\n",
       "      <td>95649.0</td>\n",
       "      <td>38942.0</td>\n",
       "      <td>{\"010730113021\":210,\"010090506022\":205,\"010090...</td>\n",
       "      <td>{\"010890111001\":271,\"010730045001\":269,\"010439...</td>\n",
       "      <td>120587.0</td>\n",
       "      <td>[\"Shell Oil\",\"mcdonalds\",\"Chick-fil-A\",\"Chevron\"]</td>\n",
       "      <td>[\"walmart\",\"mcdonalds\",\"Shell Oil\",\"Chick-fil-...</td>\n",
       "      <td>[]</td>\n",
       "      <td>[6556,6325,6222,6355,6586,7350,8568,8099,7378,...</td>\n",
       "      <td>{\"Monday\":12125,\"Tuesday\":12984,\"Wednesday\":12...</td>\n",
       "    </tr>\n",
       "    <tr>\n",
       "      <td>2</td>\n",
       "      <td>1.047957e+10</td>\n",
       "      <td>1538352000</td>\n",
       "      <td>1541030400</td>\n",
       "      <td>14009.0</td>\n",
       "      <td>3039.0</td>\n",
       "      <td>{\"010479567011\":67,\"010479567021\":60}</td>\n",
       "      <td>{\"010479567021\":52}</td>\n",
       "      <td>67774.0</td>\n",
       "      <td>[\"Dollar General\"]</td>\n",
       "      <td>[\"walmart\",\"Dollar General\",\"mcdonalds\",\"Chevr...</td>\n",
       "      <td>[\"Dollar General\"]</td>\n",
       "      <td>[807,790,796,786,851,951,1134,1797,1355,1241,1...</td>\n",
       "      <td>{\"Monday\":2314,\"Tuesday\":2340,\"Wednesday\":2195...</td>\n",
       "    </tr>\n",
       "    <tr>\n",
       "      <td>3</td>\n",
       "      <td>1.069040e+10</td>\n",
       "      <td>1538352000</td>\n",
       "      <td>1541030400</td>\n",
       "      <td>128169.0</td>\n",
       "      <td>25418.0</td>\n",
       "      <td>{\"010690402013\":370,\"010690402011\":322,\"010690...</td>\n",
       "      <td>{\"010690402024\":313,\"010690415004\":203,\"010450...</td>\n",
       "      <td>42684.0</td>\n",
       "      <td>[\"Chick-fil-A\",\"Sam's Club\",\"Dollar General\",\"...</td>\n",
       "      <td>[\"walmart\",\"Dollar General\",\"mcdonalds\",\"Marat...</td>\n",
       "      <td>[\"Chick-fil-A\",\"Sam's Club\",\"Olive Garden\",\"mc...</td>\n",
       "      <td>[2121,1828,1784,1704,1861,2373,3730,7497,7093,...</td>\n",
       "      <td>{\"Monday\":21141,\"Tuesday\":21143,\"Wednesday\":17...</td>\n",
       "    </tr>\n",
       "    <tr>\n",
       "      <td>4</td>\n",
       "      <td>1.073011e+10</td>\n",
       "      <td>1538352000</td>\n",
       "      <td>1541030400</td>\n",
       "      <td>51453.0</td>\n",
       "      <td>9499.0</td>\n",
       "      <td>{\"010090507001\":183,\"010730113021\":167,\"010730...</td>\n",
       "      <td>{\"010730045001\":140,\"010730027001\":123,\"010730...</td>\n",
       "      <td>18878.0</td>\n",
       "      <td>[\"Chevron\",\"Daylight Donuts\",\"walmart\"]</td>\n",
       "      <td>[\"walmart\",\"Chevron\",\"Dollar General\",\"Shell O...</td>\n",
       "      <td>[\"Chevron\",\"CrossFit\"]</td>\n",
       "      <td>[3804,3716,3686,3672,3735,4115,4855,5946,4526,...</td>\n",
       "      <td>{\"Monday\":8402,\"Tuesday\":8414,\"Wednesday\":8550...</td>\n",
       "    </tr>\n",
       "  </tbody>\n",
       "</table>\n",
       "</div>"
      ],
      "text/plain": [
       "   census_block_group  date_range_start  date_range_end  raw_visit_count  \\\n",
       "0        1.005951e+10        1538352000      1541030400          75122.0   \n",
       "1        1.009051e+10        1538352000      1541030400          95649.0   \n",
       "2        1.047957e+10        1538352000      1541030400          14009.0   \n",
       "3        1.069040e+10        1538352000      1541030400         128169.0   \n",
       "4        1.073011e+10        1538352000      1541030400          51453.0   \n",
       "\n",
       "   raw_visitor_count                                  visitor_home_cbgs  \\\n",
       "0            18314.0  {\"010059501003\":127,\"010059509001\":111,\"010059...   \n",
       "1            38942.0  {\"010730113021\":210,\"010090506022\":205,\"010090...   \n",
       "2             3039.0              {\"010479567011\":67,\"010479567021\":60}   \n",
       "3            25418.0  {\"010690402013\":370,\"010690402011\":322,\"010690...   \n",
       "4             9499.0  {\"010090507001\":183,\"010730113021\":167,\"010730...   \n",
       "\n",
       "                                   visitor_work_cbgs  distance_from_home  \\\n",
       "0  {\"010059501003\":109,\"010810407002\":62,\"0108104...            194724.0   \n",
       "1  {\"010890111001\":271,\"010730045001\":269,\"010439...            120587.0   \n",
       "2                                {\"010479567021\":52}             67774.0   \n",
       "3  {\"010690402024\":313,\"010690415004\":203,\"010450...             42684.0   \n",
       "4  {\"010730045001\":140,\"010730027001\":123,\"010730...             18878.0   \n",
       "\n",
       "                              related_same_day_brand  \\\n",
       "0  [\"Chick-fil-A\",\"mcdonalds\",\"Marathon Petroleum...   \n",
       "1  [\"Shell Oil\",\"mcdonalds\",\"Chick-fil-A\",\"Chevron\"]   \n",
       "2                                 [\"Dollar General\"]   \n",
       "3  [\"Chick-fil-A\",\"Sam's Club\",\"Dollar General\",\"...   \n",
       "4            [\"Chevron\",\"Daylight Donuts\",\"walmart\"]   \n",
       "\n",
       "                            related_same_month_brand  \\\n",
       "0  [\"walmart\",\"mcdonalds\",\"Dollar General\",\"Chick...   \n",
       "1  [\"walmart\",\"mcdonalds\",\"Shell Oil\",\"Chick-fil-...   \n",
       "2  [\"walmart\",\"Dollar General\",\"mcdonalds\",\"Chevr...   \n",
       "3  [\"walmart\",\"Dollar General\",\"mcdonalds\",\"Marat...   \n",
       "4  [\"walmart\",\"Chevron\",\"Dollar General\",\"Shell O...   \n",
       "\n",
       "                                          top_brands  \\\n",
       "0       [\"CrossFit\",\"Health Mart\",\"Coldwell Banker\"]   \n",
       "1                                                 []   \n",
       "2                                 [\"Dollar General\"]   \n",
       "3  [\"Chick-fil-A\",\"Sam's Club\",\"Olive Garden\",\"mc...   \n",
       "4                             [\"Chevron\",\"CrossFit\"]   \n",
       "\n",
       "                                  popularity_by_hour  \\\n",
       "0  [2617,2457,2403,2519,2646,3007,3886,7566,5508,...   \n",
       "1  [6556,6325,6222,6355,6586,7350,8568,8099,7378,...   \n",
       "2  [807,790,796,786,851,951,1134,1797,1355,1241,1...   \n",
       "3  [2121,1828,1784,1704,1861,2373,3730,7497,7093,...   \n",
       "4  [3804,3716,3686,3672,3735,4115,4855,5946,4526,...   \n",
       "\n",
       "                                   popularity_by_day  \n",
       "0  {\"Monday\":12000,\"Tuesday\":12224,\"Wednesday\":10...  \n",
       "1  {\"Monday\":12125,\"Tuesday\":12984,\"Wednesday\":12...  \n",
       "2  {\"Monday\":2314,\"Tuesday\":2340,\"Wednesday\":2195...  \n",
       "3  {\"Monday\":21141,\"Tuesday\":21143,\"Wednesday\":17...  \n",
       "4  {\"Monday\":8402,\"Tuesday\":8414,\"Wednesday\":8550...  "
      ]
     },
     "execution_count": 47,
     "metadata": {},
     "output_type": "execute_result"
    }
   ],
   "source": [
    "data[data['date_range_start']==1538352000].head(5)"
   ]
  },
  {
   "cell_type": "code",
   "execution_count": 48,
   "metadata": {},
   "outputs": [
    {
     "data": {
      "text/html": [
       "<div>\n",
       "<style scoped>\n",
       "    .dataframe tbody tr th:only-of-type {\n",
       "        vertical-align: middle;\n",
       "    }\n",
       "\n",
       "    .dataframe tbody tr th {\n",
       "        vertical-align: top;\n",
       "    }\n",
       "\n",
       "    .dataframe thead th {\n",
       "        text-align: right;\n",
       "    }\n",
       "</style>\n",
       "<table border=\"1\" class=\"dataframe\">\n",
       "  <thead>\n",
       "    <tr style=\"text-align: right;\">\n",
       "      <th></th>\n",
       "      <th>census_block_group</th>\n",
       "      <th>date_range_start</th>\n",
       "      <th>date_range_end</th>\n",
       "      <th>raw_visit_count</th>\n",
       "      <th>raw_visitor_count</th>\n",
       "      <th>visitor_home_cbgs</th>\n",
       "      <th>visitor_work_cbgs</th>\n",
       "      <th>distance_from_home</th>\n",
       "      <th>related_same_day_brand</th>\n",
       "      <th>related_same_month_brand</th>\n",
       "      <th>top_brands</th>\n",
       "      <th>popularity_by_hour</th>\n",
       "      <th>popularity_by_day</th>\n",
       "    </tr>\n",
       "  </thead>\n",
       "  <tbody>\n",
       "    <tr>\n",
       "      <td>2</td>\n",
       "      <td>1.047957e+10</td>\n",
       "      <td>1538352000</td>\n",
       "      <td>1541030400</td>\n",
       "      <td>14009.0</td>\n",
       "      <td>3039.0</td>\n",
       "      <td>{\"010479567011\":67,\"010479567021\":60}</td>\n",
       "      <td>{\"010479567021\":52}</td>\n",
       "      <td>67774.0</td>\n",
       "      <td>[\"Dollar General\"]</td>\n",
       "      <td>[\"walmart\",\"Dollar General\",\"mcdonalds\",\"Chevr...</td>\n",
       "      <td>[\"Dollar General\"]</td>\n",
       "      <td>[807,790,796,786,851,951,1134,1797,1355,1241,1...</td>\n",
       "      <td>{\"Monday\":2314,\"Tuesday\":2340,\"Wednesday\":2195...</td>\n",
       "    </tr>\n",
       "    <tr>\n",
       "      <td>18594</td>\n",
       "      <td>1.047957e+10</td>\n",
       "      <td>1538352000</td>\n",
       "      <td>1541030400</td>\n",
       "      <td>32416.0</td>\n",
       "      <td>7803.0</td>\n",
       "      <td>{\"010479561002\":78,\"010479561004\":68,\"01047956...</td>\n",
       "      <td>{\"010479567021\":52}</td>\n",
       "      <td>134244.0</td>\n",
       "      <td>[\"Chevron\",\"Pilot Travel Centers\"]</td>\n",
       "      <td>[\"walmart\",\"Dollar General\",\"mcdonalds\",\"SUBWA...</td>\n",
       "      <td>[\"Chevron\",\"Dollar General\",\"Helena Chemical\",...</td>\n",
       "      <td>[1432,1298,1339,1312,1448,1687,2023,3318,2780,...</td>\n",
       "      <td>{\"Monday\":5133,\"Tuesday\":5060,\"Wednesday\":4953...</td>\n",
       "    </tr>\n",
       "  </tbody>\n",
       "</table>\n",
       "</div>"
      ],
      "text/plain": [
       "       census_block_group  date_range_start  date_range_end  raw_visit_count  \\\n",
       "2            1.047957e+10        1538352000      1541030400          14009.0   \n",
       "18594        1.047957e+10        1538352000      1541030400          32416.0   \n",
       "\n",
       "       raw_visitor_count                                  visitor_home_cbgs  \\\n",
       "2                 3039.0              {\"010479567011\":67,\"010479567021\":60}   \n",
       "18594             7803.0  {\"010479561002\":78,\"010479561004\":68,\"01047956...   \n",
       "\n",
       "         visitor_work_cbgs  distance_from_home  \\\n",
       "2      {\"010479567021\":52}             67774.0   \n",
       "18594  {\"010479567021\":52}            134244.0   \n",
       "\n",
       "                   related_same_day_brand  \\\n",
       "2                      [\"Dollar General\"]   \n",
       "18594  [\"Chevron\",\"Pilot Travel Centers\"]   \n",
       "\n",
       "                                related_same_month_brand  \\\n",
       "2      [\"walmart\",\"Dollar General\",\"mcdonalds\",\"Chevr...   \n",
       "18594  [\"walmart\",\"Dollar General\",\"mcdonalds\",\"SUBWA...   \n",
       "\n",
       "                                              top_brands  \\\n",
       "2                                     [\"Dollar General\"]   \n",
       "18594  [\"Chevron\",\"Dollar General\",\"Helena Chemical\",...   \n",
       "\n",
       "                                      popularity_by_hour  \\\n",
       "2      [807,790,796,786,851,951,1134,1797,1355,1241,1...   \n",
       "18594  [1432,1298,1339,1312,1448,1687,2023,3318,2780,...   \n",
       "\n",
       "                                       popularity_by_day  \n",
       "2      {\"Monday\":2314,\"Tuesday\":2340,\"Wednesday\":2195...  \n",
       "18594  {\"Monday\":5133,\"Tuesday\":5060,\"Wednesday\":4953...  "
      ]
     },
     "execution_count": 48,
     "metadata": {},
     "output_type": "execute_result"
    }
   ],
   "source": [
    "data[data['visitor_work_cbgs']=='{\"010479567021\":52}'].head(5)"
   ]
  },
  {
   "cell_type": "code",
   "execution_count": 49,
   "metadata": {},
   "outputs": [
    {
     "data": {
      "text/html": [
       "<div>\n",
       "<style scoped>\n",
       "    .dataframe tbody tr th:only-of-type {\n",
       "        vertical-align: middle;\n",
       "    }\n",
       "\n",
       "    .dataframe tbody tr th {\n",
       "        vertical-align: top;\n",
       "    }\n",
       "\n",
       "    .dataframe thead th {\n",
       "        text-align: right;\n",
       "    }\n",
       "</style>\n",
       "<table border=\"1\" class=\"dataframe\">\n",
       "  <thead>\n",
       "    <tr style=\"text-align: right;\">\n",
       "      <th></th>\n",
       "      <th>census_block_group</th>\n",
       "      <th>date_range_start</th>\n",
       "      <th>date_range_end</th>\n",
       "      <th>raw_visit_count</th>\n",
       "      <th>raw_visitor_count</th>\n",
       "      <th>visitor_home_cbgs</th>\n",
       "      <th>visitor_work_cbgs</th>\n",
       "      <th>distance_from_home</th>\n",
       "      <th>related_same_day_brand</th>\n",
       "      <th>related_same_month_brand</th>\n",
       "      <th>top_brands</th>\n",
       "      <th>popularity_by_hour</th>\n",
       "      <th>popularity_by_day</th>\n",
       "    </tr>\n",
       "  </thead>\n",
       "  <tbody>\n",
       "    <tr>\n",
       "      <td>2</td>\n",
       "      <td>1.047957e+10</td>\n",
       "      <td>1538352000</td>\n",
       "      <td>1541030400</td>\n",
       "      <td>14009.0</td>\n",
       "      <td>3039.0</td>\n",
       "      <td>{\"010479567011\":67,\"010479567021\":60}</td>\n",
       "      <td>{\"010479567021\":52}</td>\n",
       "      <td>67774.0</td>\n",
       "      <td>[\"Dollar General\"]</td>\n",
       "      <td>[\"walmart\",\"Dollar General\",\"mcdonalds\",\"Chevr...</td>\n",
       "      <td>[\"Dollar General\"]</td>\n",
       "      <td>[807,790,796,786,851,951,1134,1797,1355,1241,1...</td>\n",
       "      <td>{\"Monday\":2314,\"Tuesday\":2340,\"Wednesday\":2195...</td>\n",
       "    </tr>\n",
       "    <tr>\n",
       "      <td>232</td>\n",
       "      <td>3.719396e+11</td>\n",
       "      <td>1538352000</td>\n",
       "      <td>1541030400</td>\n",
       "      <td>13908.0</td>\n",
       "      <td>3573.0</td>\n",
       "      <td>{\"371939602003\":52,\"371939601001\":50}</td>\n",
       "      <td>{}</td>\n",
       "      <td>59506.0</td>\n",
       "      <td>[\"Dollar General\"]</td>\n",
       "      <td>[\"walmart\",\"mcdonalds\",\"Dollar General\",\"Bojan...</td>\n",
       "      <td>[\"Dollar General\",\"United States Postal Servic...</td>\n",
       "      <td>[1090,1078,1064,1127,1156,1290,1375,1543,1178,...</td>\n",
       "      <td>{\"Monday\":1927,\"Tuesday\":1961,\"Wednesday\":1874...</td>\n",
       "    </tr>\n",
       "    <tr>\n",
       "      <td>2733</td>\n",
       "      <td>3.915592e+11</td>\n",
       "      <td>1538352000</td>\n",
       "      <td>1541030400</td>\n",
       "      <td>31528.0</td>\n",
       "      <td>5798.0</td>\n",
       "      <td>{\"391559209002\":67,\"391559209001\":63,\"39155920...</td>\n",
       "      <td>{\"391559338004\":63,\"391559334001\":56}</td>\n",
       "      <td>11302.0</td>\n",
       "      <td>[\"Dollar General\"]</td>\n",
       "      <td>[\"Dollar General\",\"Giant Eagle\",\"walmart\",\"mcd...</td>\n",
       "      <td>[\"The Huntington National Bank\"]</td>\n",
       "      <td>[1267,1246,1173,1255,1251,1410,1658,2040,2125,...</td>\n",
       "      <td>{\"Monday\":5143,\"Tuesday\":5299,\"Wednesday\":5210...</td>\n",
       "    </tr>\n",
       "    <tr>\n",
       "      <td>3138</td>\n",
       "      <td>4.013109e+10</td>\n",
       "      <td>1538352000</td>\n",
       "      <td>1541030400</td>\n",
       "      <td>74459.0</td>\n",
       "      <td>33059.0</td>\n",
       "      <td>{\"040131072011\":423,\"040131074006\":76,\"0401310...</td>\n",
       "      <td>{\"040131072011\":249,\"040131141001\":78,\"0401311...</td>\n",
       "      <td>14845.0</td>\n",
       "      <td>[\"Dollar General\"]</td>\n",
       "      <td>[\"Circle K Stores\",\"QuikTrip\",\"Fry's Food &amp; Dr...</td>\n",
       "      <td>[\"Dollar General\",\"Quest Diagnostics\"]</td>\n",
       "      <td>[5056,4704,4356,4389,4973,5301,5974,6913,6923,...</td>\n",
       "      <td>{\"Monday\":11152,\"Tuesday\":11166,\"Wednesday\":11...</td>\n",
       "    </tr>\n",
       "    <tr>\n",
       "      <td>3392</td>\n",
       "      <td>4.508302e+11</td>\n",
       "      <td>1538352000</td>\n",
       "      <td>1541030400</td>\n",
       "      <td>28218.0</td>\n",
       "      <td>3869.0</td>\n",
       "      <td>{\"450830227003\":107,\"450830230011\":87,\"4508302...</td>\n",
       "      <td>{\"450830229002\":99}</td>\n",
       "      <td>15174.0</td>\n",
       "      <td>[\"Dollar General\"]</td>\n",
       "      <td>[\"QuikTrip\",\"Dollar General\",\"Spinx\",\"walmart\"...</td>\n",
       "      <td>[]</td>\n",
       "      <td>[4196,4120,4127,4129,4110,4132,4386,5147,3680,...</td>\n",
       "      <td>{\"Monday\":4472,\"Tuesday\":4347,\"Wednesday\":4442...</td>\n",
       "    </tr>\n",
       "  </tbody>\n",
       "</table>\n",
       "</div>"
      ],
      "text/plain": [
       "      census_block_group  date_range_start  date_range_end  raw_visit_count  \\\n",
       "2           1.047957e+10        1538352000      1541030400          14009.0   \n",
       "232         3.719396e+11        1538352000      1541030400          13908.0   \n",
       "2733        3.915592e+11        1538352000      1541030400          31528.0   \n",
       "3138        4.013109e+10        1538352000      1541030400          74459.0   \n",
       "3392        4.508302e+11        1538352000      1541030400          28218.0   \n",
       "\n",
       "      raw_visitor_count                                  visitor_home_cbgs  \\\n",
       "2                3039.0              {\"010479567011\":67,\"010479567021\":60}   \n",
       "232              3573.0              {\"371939602003\":52,\"371939601001\":50}   \n",
       "2733             5798.0  {\"391559209002\":67,\"391559209001\":63,\"39155920...   \n",
       "3138            33059.0  {\"040131072011\":423,\"040131074006\":76,\"0401310...   \n",
       "3392             3869.0  {\"450830227003\":107,\"450830230011\":87,\"4508302...   \n",
       "\n",
       "                                      visitor_work_cbgs  distance_from_home  \\\n",
       "2                                   {\"010479567021\":52}             67774.0   \n",
       "232                                                  {}             59506.0   \n",
       "2733              {\"391559338004\":63,\"391559334001\":56}             11302.0   \n",
       "3138  {\"040131072011\":249,\"040131141001\":78,\"0401311...             14845.0   \n",
       "3392                                {\"450830229002\":99}             15174.0   \n",
       "\n",
       "     related_same_day_brand  \\\n",
       "2        [\"Dollar General\"]   \n",
       "232      [\"Dollar General\"]   \n",
       "2733     [\"Dollar General\"]   \n",
       "3138     [\"Dollar General\"]   \n",
       "3392     [\"Dollar General\"]   \n",
       "\n",
       "                               related_same_month_brand  \\\n",
       "2     [\"walmart\",\"Dollar General\",\"mcdonalds\",\"Chevr...   \n",
       "232   [\"walmart\",\"mcdonalds\",\"Dollar General\",\"Bojan...   \n",
       "2733  [\"Dollar General\",\"Giant Eagle\",\"walmart\",\"mcd...   \n",
       "3138  [\"Circle K Stores\",\"QuikTrip\",\"Fry's Food & Dr...   \n",
       "3392  [\"QuikTrip\",\"Dollar General\",\"Spinx\",\"walmart\"...   \n",
       "\n",
       "                                             top_brands  \\\n",
       "2                                    [\"Dollar General\"]   \n",
       "232   [\"Dollar General\",\"United States Postal Servic...   \n",
       "2733                   [\"The Huntington National Bank\"]   \n",
       "3138             [\"Dollar General\",\"Quest Diagnostics\"]   \n",
       "3392                                                 []   \n",
       "\n",
       "                                     popularity_by_hour  \\\n",
       "2     [807,790,796,786,851,951,1134,1797,1355,1241,1...   \n",
       "232   [1090,1078,1064,1127,1156,1290,1375,1543,1178,...   \n",
       "2733  [1267,1246,1173,1255,1251,1410,1658,2040,2125,...   \n",
       "3138  [5056,4704,4356,4389,4973,5301,5974,6913,6923,...   \n",
       "3392  [4196,4120,4127,4129,4110,4132,4386,5147,3680,...   \n",
       "\n",
       "                                      popularity_by_day  \n",
       "2     {\"Monday\":2314,\"Tuesday\":2340,\"Wednesday\":2195...  \n",
       "232   {\"Monday\":1927,\"Tuesday\":1961,\"Wednesday\":1874...  \n",
       "2733  {\"Monday\":5143,\"Tuesday\":5299,\"Wednesday\":5210...  \n",
       "3138  {\"Monday\":11152,\"Tuesday\":11166,\"Wednesday\":11...  \n",
       "3392  {\"Monday\":4472,\"Tuesday\":4347,\"Wednesday\":4442...  "
      ]
     },
     "execution_count": 49,
     "metadata": {},
     "output_type": "execute_result"
    }
   ],
   "source": [
    "data[data['related_same_day_brand']=='[\"Dollar General\"]'].head(5)"
   ]
  },
  {
   "cell_type": "code",
   "execution_count": 50,
   "metadata": {},
   "outputs": [
    {
     "data": {
      "text/html": [
       "<div>\n",
       "<style scoped>\n",
       "    .dataframe tbody tr th:only-of-type {\n",
       "        vertical-align: middle;\n",
       "    }\n",
       "\n",
       "    .dataframe tbody tr th {\n",
       "        vertical-align: top;\n",
       "    }\n",
       "\n",
       "    .dataframe thead th {\n",
       "        text-align: right;\n",
       "    }\n",
       "</style>\n",
       "<table border=\"1\" class=\"dataframe\">\n",
       "  <thead>\n",
       "    <tr style=\"text-align: right;\">\n",
       "      <th></th>\n",
       "      <th>census_block_group</th>\n",
       "      <th>date_range_start</th>\n",
       "      <th>date_range_end</th>\n",
       "      <th>raw_visit_count</th>\n",
       "      <th>raw_visitor_count</th>\n",
       "      <th>visitor_home_cbgs</th>\n",
       "      <th>visitor_work_cbgs</th>\n",
       "      <th>distance_from_home</th>\n",
       "      <th>related_same_day_brand</th>\n",
       "      <th>related_same_month_brand</th>\n",
       "      <th>top_brands</th>\n",
       "      <th>popularity_by_hour</th>\n",
       "      <th>popularity_by_day</th>\n",
       "    </tr>\n",
       "  </thead>\n",
       "  <tbody>\n",
       "    <tr>\n",
       "      <td>2</td>\n",
       "      <td>1.047957e+10</td>\n",
       "      <td>1538352000</td>\n",
       "      <td>1541030400</td>\n",
       "      <td>14009.0</td>\n",
       "      <td>3039.0</td>\n",
       "      <td>{\"010479567011\":67,\"010479567021\":60}</td>\n",
       "      <td>{\"010479567021\":52}</td>\n",
       "      <td>67774.0</td>\n",
       "      <td>[\"Dollar General\"]</td>\n",
       "      <td>[\"walmart\",\"Dollar General\",\"mcdonalds\",\"Chevr...</td>\n",
       "      <td>[\"Dollar General\"]</td>\n",
       "      <td>[807,790,796,786,851,951,1134,1797,1355,1241,1...</td>\n",
       "      <td>{\"Monday\":2314,\"Tuesday\":2340,\"Wednesday\":2195...</td>\n",
       "    </tr>\n",
       "    <tr>\n",
       "      <td>15</td>\n",
       "      <td>4.019004e+10</td>\n",
       "      <td>1538352000</td>\n",
       "      <td>1541030400</td>\n",
       "      <td>56602.0</td>\n",
       "      <td>17743.0</td>\n",
       "      <td>{\"040190041071\":284,\"040190040621\":277,\"040190...</td>\n",
       "      <td>{\"040190041211\":231,\"040190040621\":200,\"040190...</td>\n",
       "      <td>37198.0</td>\n",
       "      <td>[\"Circle K Stores\",\"Pilot Travel Centers\",\"She...</td>\n",
       "      <td>[\"walmart\",\"Circle K Stores\",\"mcdonalds\",\"Shel...</td>\n",
       "      <td>[\"Dollar General\"]</td>\n",
       "      <td>[1779,1725,1588,1584,1781,2611,3320,4305,3828,...</td>\n",
       "      <td>{\"Monday\":8614,\"Tuesday\":8972,\"Wednesday\":8751...</td>\n",
       "    </tr>\n",
       "    <tr>\n",
       "      <td>164</td>\n",
       "      <td>2.914147e+11</td>\n",
       "      <td>1538352000</td>\n",
       "      <td>1541030400</td>\n",
       "      <td>17798.0</td>\n",
       "      <td>3921.0</td>\n",
       "      <td>{\"291414701003\":83,\"291319627002\":53,\"29141470...</td>\n",
       "      <td>{}</td>\n",
       "      <td>66147.0</td>\n",
       "      <td>[\"walmart\",\"Dollar General\"]</td>\n",
       "      <td>[\"walmart\",\"mcdonalds\",\"Casey's General Stores...</td>\n",
       "      <td>[\"Dollar General\"]</td>\n",
       "      <td>[1771,1776,1783,1790,1783,1862,2030,2311,1935,...</td>\n",
       "      <td>{\"Monday\":2293,\"Tuesday\":2180,\"Wednesday\":2252...</td>\n",
       "    </tr>\n",
       "    <tr>\n",
       "      <td>191</td>\n",
       "      <td>3.602901e+11</td>\n",
       "      <td>1538352000</td>\n",
       "      <td>1541030400</td>\n",
       "      <td>9590.0</td>\n",
       "      <td>2908.0</td>\n",
       "      <td>{}</td>\n",
       "      <td>{\"360290165001\":56}</td>\n",
       "      <td>7722.0</td>\n",
       "      <td>[\"Tim Hortons\",\"Dollar General\",\"Wegmans Food ...</td>\n",
       "      <td>[\"Tim Hortons\",\"Wegmans Food Markets\",\"Tops Fr...</td>\n",
       "      <td>[\"Dollar General\"]</td>\n",
       "      <td>[522,480,510,482,532,538,716,885,716,722,794,7...</td>\n",
       "      <td>{\"Monday\":1548,\"Tuesday\":1607,\"Wednesday\":1487...</td>\n",
       "    </tr>\n",
       "    <tr>\n",
       "      <td>972</td>\n",
       "      <td>1.103006e+10</td>\n",
       "      <td>1538352000</td>\n",
       "      <td>1541030400</td>\n",
       "      <td>64573.0</td>\n",
       "      <td>8857.0</td>\n",
       "      <td>{\"010890028021\":150,\"010950303002\":147,\"011030...</td>\n",
       "      <td>{\"010890111001\":239,\"010950305005\":112,\"010890...</td>\n",
       "      <td>30937.0</td>\n",
       "      <td>[\"Chick-fil-A\",\"walmart\"]</td>\n",
       "      <td>[\"walmart\",\"Dollar General\",\"mcdonalds\",\"Chick...</td>\n",
       "      <td>[\"Dollar General\"]</td>\n",
       "      <td>[2164,2016,2018,2013,2240,3079,5024,5536,4173,...</td>\n",
       "      <td>{\"Monday\":9906,\"Tuesday\":10140,\"Wednesday\":976...</td>\n",
       "    </tr>\n",
       "  </tbody>\n",
       "</table>\n",
       "</div>"
      ],
      "text/plain": [
       "     census_block_group  date_range_start  date_range_end  raw_visit_count  \\\n",
       "2          1.047957e+10        1538352000      1541030400          14009.0   \n",
       "15         4.019004e+10        1538352000      1541030400          56602.0   \n",
       "164        2.914147e+11        1538352000      1541030400          17798.0   \n",
       "191        3.602901e+11        1538352000      1541030400           9590.0   \n",
       "972        1.103006e+10        1538352000      1541030400          64573.0   \n",
       "\n",
       "     raw_visitor_count                                  visitor_home_cbgs  \\\n",
       "2               3039.0              {\"010479567011\":67,\"010479567021\":60}   \n",
       "15             17743.0  {\"040190041071\":284,\"040190040621\":277,\"040190...   \n",
       "164             3921.0  {\"291414701003\":83,\"291319627002\":53,\"29141470...   \n",
       "191             2908.0                                                 {}   \n",
       "972             8857.0  {\"010890028021\":150,\"010950303002\":147,\"011030...   \n",
       "\n",
       "                                     visitor_work_cbgs  distance_from_home  \\\n",
       "2                                  {\"010479567021\":52}             67774.0   \n",
       "15   {\"040190041211\":231,\"040190040621\":200,\"040190...             37198.0   \n",
       "164                                                 {}             66147.0   \n",
       "191                                {\"360290165001\":56}              7722.0   \n",
       "972  {\"010890111001\":239,\"010950305005\":112,\"010890...             30937.0   \n",
       "\n",
       "                                related_same_day_brand  \\\n",
       "2                                   [\"Dollar General\"]   \n",
       "15   [\"Circle K Stores\",\"Pilot Travel Centers\",\"She...   \n",
       "164                       [\"walmart\",\"Dollar General\"]   \n",
       "191  [\"Tim Hortons\",\"Dollar General\",\"Wegmans Food ...   \n",
       "972                          [\"Chick-fil-A\",\"walmart\"]   \n",
       "\n",
       "                              related_same_month_brand          top_brands  \\\n",
       "2    [\"walmart\",\"Dollar General\",\"mcdonalds\",\"Chevr...  [\"Dollar General\"]   \n",
       "15   [\"walmart\",\"Circle K Stores\",\"mcdonalds\",\"Shel...  [\"Dollar General\"]   \n",
       "164  [\"walmart\",\"mcdonalds\",\"Casey's General Stores...  [\"Dollar General\"]   \n",
       "191  [\"Tim Hortons\",\"Wegmans Food Markets\",\"Tops Fr...  [\"Dollar General\"]   \n",
       "972  [\"walmart\",\"Dollar General\",\"mcdonalds\",\"Chick...  [\"Dollar General\"]   \n",
       "\n",
       "                                    popularity_by_hour  \\\n",
       "2    [807,790,796,786,851,951,1134,1797,1355,1241,1...   \n",
       "15   [1779,1725,1588,1584,1781,2611,3320,4305,3828,...   \n",
       "164  [1771,1776,1783,1790,1783,1862,2030,2311,1935,...   \n",
       "191  [522,480,510,482,532,538,716,885,716,722,794,7...   \n",
       "972  [2164,2016,2018,2013,2240,3079,5024,5536,4173,...   \n",
       "\n",
       "                                     popularity_by_day  \n",
       "2    {\"Monday\":2314,\"Tuesday\":2340,\"Wednesday\":2195...  \n",
       "15   {\"Monday\":8614,\"Tuesday\":8972,\"Wednesday\":8751...  \n",
       "164  {\"Monday\":2293,\"Tuesday\":2180,\"Wednesday\":2252...  \n",
       "191  {\"Monday\":1548,\"Tuesday\":1607,\"Wednesday\":1487...  \n",
       "972  {\"Monday\":9906,\"Tuesday\":10140,\"Wednesday\":976...  "
      ]
     },
     "execution_count": 50,
     "metadata": {},
     "output_type": "execute_result"
    }
   ],
   "source": [
    "data[data['top_brands']=='[\"Dollar General\"]'].head(5)"
   ]
  },
  {
   "cell_type": "markdown",
   "metadata": {},
   "source": [
    "通过上述分析可以看出在其他属性值相同的情况下，有缺失的属性值的变动很大，说明这些缺失值无法通过其他行来进行填补。"
   ]
  }
 ],
 "metadata": {
  "kernelspec": {
   "display_name": "Python 3",
   "language": "python",
   "name": "python3"
  },
  "language_info": {
   "codemirror_mode": {
    "name": "ipython",
    "version": 3
   },
   "file_extension": ".py",
   "mimetype": "text/x-python",
   "name": "python",
   "nbconvert_exporter": "python",
   "pygments_lexer": "ipython3",
   "version": "3.6.2"
  }
 },
 "nbformat": 4,
 "nbformat_minor": 2
}
